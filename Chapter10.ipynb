{
 "cells": [
  {
   "cell_type": "markdown",
   "id": "5dd32ce1-6dea-485f-b923-10739cea1e37",
   "metadata": {},
   "source": [
    "# Chapter 10: Classes"
   ]
  },
  {
   "cell_type": "markdown",
   "id": "d64886b9-01ae-4b9b-8516-af7eda322115",
   "metadata": {},
   "source": [
    "<h4> In this assignment, we are learning about classes. Classes are a collection of objects that run together when called upon. This can seriously help when needing to organize code into managable portions, especially when a project becomes a certain size. </h4>"
   ]
  },
  {
   "cell_type": "markdown",
   "id": "1aba3e2d-3b00-49b0-b565-2eddbe422256",
   "metadata": {},
   "source": [
    "<h3> Programming Exercise # 1 </h3>"
   ]
  },
  {
   "cell_type": "code",
   "execution_count": 33,
   "id": "fef6ee79-7070-44ac-8b19-b48234aeda9f",
   "metadata": {},
   "outputs": [
    {
     "name": "stdin",
     "output_type": "stream",
     "text": [
      "What is the name of the animal? Hank\n",
      "What is the type of animal you are bringing in today? Dog\n",
      "How old is your pet? 12\n"
     ]
    },
    {
     "name": "stdout",
     "output_type": "stream",
     "text": [
      "Pet's name:  Hank\n",
      "Pet's type:  Dog\n",
      "Pet's age:  12\n"
     ]
    }
   ],
   "source": [
    "# Write a class named Pets. Once you have written the class, write a program that creates an object of the class and prompts the user to enter the name, type, and age of his or her pet. \n",
    "# This data should be stored as the object’s attributes. Use the object’s accessor methods to retrieve the pet’s name, type, and age and display this data on the screen.\n",
    "\n",
    "\n",
    "# Define the class\n",
    "class Pets:\n",
    "    def __init__(self, name, animal_type, age): # Build the constructor with these data attributes. Each one has the two underscores up front to ensure they are private attributes.\n",
    "        self.__name = name\n",
    "        self.__animal_type = animal_type \n",
    "        self.__age = age\n",
    "        \n",
    "    def set_name(name): # The name method is set to a name var\n",
    "        self.__name = name\n",
    "        \n",
    "    def set_animal_type(animal_type): # The animal_type attribute is set to an animal_type var\n",
    "        self.__animal_type = animal_type \n",
    "        \n",
    "    def set_age(age): # The set_age method is set to a set_age var\n",
    "        self.__age = age\n",
    "        \n",
    "    def get_name(self): # The get_name method is simply accessed, or returned.\n",
    "        return self.__name\n",
    "        \n",
    "    def get_animal_type(self): # The get_animal_type method is simply accessed, or returned.\n",
    "        return self.__animal_type\n",
    "        \n",
    "    def get_age(self): # The get_age method is simply accessed, or returned.\n",
    "        return self.__age\n",
    "        \n",
    "def main(): # Main is now more important than ever for tying up the program neatly. \n",
    "    \n",
    "    name = str(input(\"What is the name of the animal?\")) # User is asked for these three inputs. \n",
    "    animal_type = str(input(\"What is the type of animal you are bringing in today?\"))\n",
    "    age = int(input(\"How old is your pet?\"))\n",
    "    \n",
    "    my_pet = Pets(name, animal_type, age) # A my_pet object is created, which calls the class\n",
    "    \n",
    "    print(\"Pet's name: \", my_pet.get_name()) # The results are printed to console. \n",
    "    print(\"Pet's type: \", my_pet.get_animal_type())\n",
    "    print(\"Pet's age: \", my_pet.get_age())\n",
    "    \n",
    "if __name__ == \"__main__\": # Main() is called.\n",
    "        main()\n",
    "            "
   ]
  },
  {
   "cell_type": "markdown",
   "id": "7c3415ca-a8e9-4a0d-b88d-82e406431967",
   "metadata": {},
   "source": [
    "<h4>  </h4>\n",
    "<h5> 1. </h5>\n",
    "<h5> 2. </h5>\n",
    "<h5> 3. </h5>\n",
    "<h5> 4.  </h5>\n",
    "<h5> 5. </h5>"
   ]
  },
  {
   "cell_type": "markdown",
   "id": "278ed8eb-9199-4fea-92d1-40d7e1c3c2a5",
   "metadata": {},
   "source": [
    "<h3> Programming Exercise # 2 </h3>"
   ]
  },
  {
   "cell_type": "code",
   "execution_count": null,
   "id": "e3eb551b-fb21-4896-bea8-77dbf30a0397",
   "metadata": {},
   "outputs": [],
   "source": [
    "# Write a class named Car. It accepts 3 data attributes and has 3 methods. \n",
    "\n",
    "# The Car class should have an __init__ method that accepts the car’s year model and make as arguments. These values should be assigned to the object’s __year_model and __make data attributes. It should also assign 0 to the __speed data attribute.\n",
    "\n",
    "# Next, design a program that creates a Car object then calls the accelerate method five times. After each call to the accelerate method, get the current speed of the car and display it. Then call the brake method five times. After each call to the brake method, get the current speed of the car and display it.\n",
    "\n",
    "import time # The time library is imported into the program, this will be relevant later.\n",
    "\n",
    "class Car(): # Class is defined \n",
    "    def __init__(self, year_model, make, speed): # Constructor creates the data attributes, with them being passed as arguments.\n",
    "        self.__year_model = year_model\n",
    "        self.__make = make\n",
    "        self.__speed = speed\n",
    "        \n",
    "    def set_speed(self): # This sets the speed to a default of zero.\n",
    "        self.__speed = 0\n",
    "        \n",
    "    def get_speed(self): # This simply accesses the speed and helps display the speed to console.\n",
    "        return self.__speed\n",
    "    \n",
    "    def accelerate(self): # This adds a continuous amount of 5.\n",
    "        self.__speed += 5\n",
    "    \n",
    "    def brake(self): # This subtracts a continous amount of 5.\n",
    "        self.__speed -= 5\n",
    "        \n",
    "        \n",
    "def main(): # The function that ties everything together.\n",
    "    \n",
    "    year_model = int(input(\"What is the model year of your vehicle?: \")) # User is asked to input these variables into the system.\n",
    "    make = str(input(\"What is the make of your vehicle?: \"))\n",
    "    speed = int(input(\"What is the current speed of your vehicle?: \"))\n",
    "    \n",
    "    car_type = Car(year_model, make, speed) # Object is created that calls the methods of the class. \n",
    "    \n",
    "    for _ in range(5): # This one loops the accelerate method\n",
    "        car_type.accelerate()\n",
    "        time.sleep(2)\n",
    "        \n",
    "        print(\"Current Speed is...\", car_type.get_speed())\n",
    "        \n",
    "    for _ in range(5): # This loops the brake method\n",
    "        car_type.brake()\n",
    "        time.sleep(2)\n",
    "        \n",
    "        print(\"Current Speed is...\", car_type.get_speed())\n",
    "    \n",
    "if __name__ == \"__main__\": # Main callback\n",
    "        main()"
   ]
  },
  {
   "cell_type": "code",
   "execution_count": null,
   "id": "444da569-319f-4e3c-aacc-bfd7dc88c5a8",
   "metadata": {},
   "outputs": [],
   "source": []
  }
 ],
 "metadata": {
  "kernelspec": {
   "display_name": "anaconda-panel-2023.05-py310",
   "language": "python",
   "name": "conda-env-anaconda-panel-2023.05-py310-py"
  },
  "language_info": {
   "codemirror_mode": {
    "name": "ipython",
    "version": 3
   },
   "file_extension": ".py",
   "mimetype": "text/x-python",
   "name": "python",
   "nbconvert_exporter": "python",
   "pygments_lexer": "ipython3",
   "version": "3.11.5"
  }
 },
 "nbformat": 4,
 "nbformat_minor": 5
}
