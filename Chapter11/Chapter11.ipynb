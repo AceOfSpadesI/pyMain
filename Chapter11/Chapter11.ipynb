{
 "cells": [
  {
   "cell_type": "markdown",
   "id": "5dd32ce1-6dea-485f-b923-10739cea1e37",
   "metadata": {},
   "source": [
    "# Chapter 11: Inheritance"
   ]
  },
  {
   "cell_type": "markdown",
   "id": "d64886b9-01ae-4b9b-8516-af7eda322115",
   "metadata": {},
   "source": [
    "<h4> In this assignment, we are dealing with inheritance within classes. Class inheritance allow you to utilize methods from higher, or parent classes, which can make developing other, more specialized classes, easier. </h4>"
   ]
  },
  {
   "cell_type": "markdown",
   "id": "1aba3e2d-3b00-49b0-b565-2eddbe422256",
   "metadata": {},
   "source": [
    "<h3> Programming Exercise # 1 </h3>"
   ]
  },
  {
   "cell_type": "code",
   "execution_count": 40,
   "id": "fef6ee79-7070-44ac-8b19-b48234aeda9f",
   "metadata": {},
   "outputs": [
    {
     "name": "stdin",
     "output_type": "stream",
     "text": [
      "What is the Employee Name?:  William Afton\n",
      "What is the Employee Number?:  123456789\n",
      "What is the shift they work?:  1\n",
      "What is their hourly rate?: $ 19.00\n"
     ]
    },
    {
     "name": "stdout",
     "output_type": "stream",
     "text": [
      "They work in the day!\n"
     ]
    }
   ],
   "source": [
    "class Employee: # This creates the superclass for our project\n",
    "    def __init__(self, ename, enumber): # Constructor that initalizes our data attributes\n",
    "        self.__ename = ename \n",
    "        self.__enumber = enumber\n",
    "        \n",
    "    def get_ename(self): # Accessor methods. We need these to access the data so we can use them elsewhere\n",
    "        return ename\n",
    "    \n",
    "    def get_enumber(self):\n",
    "        return enumber\n",
    "    \n",
    "    def set_ename(self, ename): # Mutator Methods. We need these to handle the data so the main method can do it's work.\n",
    "        self.__ename = ename\n",
    "        ename = '' # An empty string is set so that we can input any data into the new string. \n",
    "        \n",
    "    def set_enumber(self, enumber):\n",
    "        self.__enumber = enumber\n",
    "        enumber = 0 # This is set to zero so we don't have any unexpected addition. \n",
    "        \n",
    "class ProductionWorker(Employee): # Subclass\n",
    "    def __init__(self, snumber, hourly, ename, enumber): # Constructor for subclass\n",
    "        super().__init__(ename, enumber) # The super function allows for the access of parent methods, which we need for this class to properly function. \n",
    "        self.__snumber = snumber\n",
    "        self.__hourly = hourly\n",
    "        \n",
    "    def get_ProductionWorker_Number(self): # Accessor Methods.\n",
    "        return snumber\n",
    "    \n",
    "    def get_Hourly(self):\n",
    "        return hourly\n",
    "    \n",
    "    def set_SNumber(self, snumber): # Mutator Methods\n",
    "        self.__snumber = snumber\n",
    "        snumber = 0\n",
    "        \n",
    "        \n",
    "    def set_Hourly(self, hourly):\n",
    "        self.__hourly = hourly\n",
    "        Hourly = 0\n",
    "    \n",
    "def main():\n",
    "    \n",
    "    ename = str(input(\"What is the Employee Name?: \"))\n",
    "    enumber = int(input(\"What is the Employee Number?: \"))\n",
    "    snumber = int(input(\"What is the shift they work?: \"))\n",
    "    hourly = float(input(\"What is their hourly rate?: $\"))\n",
    "    \n",
    "    if snumber == 1:\n",
    "        print(\"They work in the day!\")\n",
    "    elif snumber == 2:\n",
    "        print(\"They work in the night!\")\n",
    "    else:\n",
    "        print(\"I don't think they work here...\")\n",
    "            \n",
    "    employee = Employee(ename, enumber)\n",
    "    productionworker = ProductionWorker(ename, enumber, snumber, hourly)\n",
    "    \n",
    "main()"
   ]
  },
  {
   "cell_type": "markdown",
   "id": "01117c7c-8337-49b9-8382-b95f08eb79fd",
   "metadata": {},
   "source": [
    "<h3> Programming Exercise # 2 </h3>"
   ]
  },
  {
   "cell_type": "code",
   "execution_count": 54,
   "id": "e3eb551b-fb21-4896-bea8-77dbf30a0397",
   "metadata": {},
   "outputs": [
    {
     "name": "stdin",
     "output_type": "stream",
     "text": [
      "What is the Employee Name?:  William Afton\n",
      "What is the Employee Number?:  123456789\n",
      "What is the shift they work?:  1\n",
      "What is their hourly rate?: $ 19.00\n"
     ]
    },
    {
     "name": "stdout",
     "output_type": "stream",
     "text": [
      "They work in the day!\n"
     ]
    },
    {
     "name": "stdin",
     "output_type": "stream",
     "text": [
      "For the supervisor, what is their annual salary?: $ 34000\n"
     ]
    },
    {
     "name": "stdout",
     "output_type": "stream",
     "text": [
      "They will receive $3400.0 If they meet their goals this year!\n"
     ]
    }
   ],
   "source": [
    "class Employee: # This creates the superclass for our project\n",
    "    def __init__(self, ename, enumber): # Constructor that initalizes our data attributes\n",
    "        self.__ename = ename \n",
    "        self.__enumber = enumber\n",
    "        \n",
    "    def get_ename(self): # Accessor methods. We need these to access the data so we can use them elsewhere\n",
    "        return ename\n",
    "    \n",
    "    def get_enumber(self):\n",
    "        return enumber\n",
    "    \n",
    "    def set_ename(self, ename): # Mutator Methods. We need these to handle the data so the main method can do it's work.\n",
    "        self.__ename = ename\n",
    "        ename = '' # An empty string is set so that we can input any data into the new string. \n",
    "        \n",
    "    def set_enumber(self, enumber):\n",
    "        self.__enumber = enumber\n",
    "        enumber = 0 # This is set to zero so we don't have any unexpected addition. \n",
    "        \n",
    "class ProductionWorker(Employee): # Subclass\n",
    "    def __init__(self, snumber, hourly, ename, enumber): # Constructor for subclass\n",
    "        super().__init__(ename, enumber) # The super function allows for the access of parent methods, which we need for this class to properly function. \n",
    "        self.__snumber = snumber\n",
    "        self.__hourly = hourly\n",
    "        \n",
    "    def get_ProductionWorker_Number(self): # Accessor Methods.\n",
    "        return snumber\n",
    "    \n",
    "    def get_Hourly(self):\n",
    "        return hourly\n",
    "    \n",
    "    def set_SNumber(self, snumber): # Mutator Methods\n",
    "        self.__snumber = snumber\n",
    "        snumber = 0\n",
    "        \n",
    "        \n",
    "    def set_Hourly(self, hourly):\n",
    "        self.__hourly = hourly\n",
    "        Hourly = 0\n",
    "        \n",
    "class ShiftSupervisor(Employee): # Creating ShiftSupervisor subclass\n",
    "    def __init__(self, annualSalary, annualBonus): # Constructor\n",
    "        self.__annualSalary = annualSalary \n",
    "        self.__annualBonus = annualBonus\n",
    "        \n",
    "    def get_Annual_Salary(self): # Accessor methods\n",
    "        return annualSalary\n",
    "    \n",
    "    def get_Annual_Bonus(self):\n",
    "        return annualBonus\n",
    "    \n",
    "    def set_Annual_Salary(self, annualSalary): # Mutator methods\n",
    "        self.__annualSalary = annualSalary\n",
    "        annualSalary = 0\n",
    "        \n",
    "        \n",
    "    def set_Annual_Bonus(self, annualBonus):\n",
    "        self.__AnnualBonus = annualBonus\n",
    "        annualBonus = 0\n",
    "    \n",
    "def main():\n",
    "    \n",
    "    ename = str(input(\"What is the Employee Name?: \"))\n",
    "    enumber = int(input(\"What is the Employee Number?: \"))\n",
    "    snumber = int(input(\"What is the shift they work?: \"))\n",
    "    hourly = float(input(\"What is their hourly rate?: $\"))\n",
    "    \n",
    "    if snumber == 1:\n",
    "        print(\"They work in the day!\")\n",
    "    elif snumber == 2:\n",
    "        print(\"They work in the night!\")\n",
    "    else:\n",
    "        print(\"I don't think they work here...\")\n",
    "        \n",
    "    annualSalary = int(input(\"For the supervisor, what is their annual salary?: $\")) # Collect important information about the supervisor.\n",
    "    annualBonus = AnnualSalary * 0.1\n",
    "    bonus = print(\"They will receive $\" + str(AnnualBonus) + \" If they meet their goals this year!\")\n",
    "            \n",
    "    employee = Employee(ename, enumber) \n",
    "    productionworker = ProductionWorker(ename, enumber, snumber, hourly\n",
    "    shiftsupervisor = ShiftSupervisor(AnnualSalary, AnnualBonus)\n",
    "    \n",
    "main() # Call the main function"
   ]
  }
 ],
 "metadata": {
  "kernelspec": {
   "display_name": "anaconda-panel-2023.05-py310",
   "language": "python",
   "name": "conda-env-anaconda-panel-2023.05-py310-py"
  },
  "language_info": {
   "codemirror_mode": {
    "name": "ipython",
    "version": 3
   },
   "file_extension": ".py",
   "mimetype": "text/x-python",
   "name": "python",
   "nbconvert_exporter": "python",
   "pygments_lexer": "ipython3",
   "version": "3.11.5"
  }
 },
 "nbformat": 4,
 "nbformat_minor": 5
}
