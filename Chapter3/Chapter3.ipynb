{
 "cells": [
  {
   "cell_type": "markdown",
   "id": "d624d50e-f8ee-4281-b41d-ad00c0fc6b68",
   "metadata": {},
   "source": [
    "# Chapter 3: Conditional Statements"
   ]
  },
  {
   "cell_type": "markdown",
   "id": "31c79f37-17ef-436e-9ad2-2a0ff6cdfb03",
   "metadata": {},
   "source": [
    "<h4>This goes into detail statements that require a certain condition to be met, such as True or False. The biggest statement that relies on a True or False statement to determine it's \"decision\" is an \"if\" statement, which asks the user whether or not a certain condition is True. </h4>"
   ]
  },
  {
   "cell_type": "markdown",
   "id": "e7a0cc8a-3100-41a5-9398-61c24d25addd",
   "metadata": {},
   "source": [
    "<h3> Algorithm Problem #3 </h3>"
   ]
  },
  {
   "cell_type": "code",
   "execution_count": 20,
   "id": "3f6138e8-03ad-4de5-9984-f59608046af0",
   "metadata": {},
   "outputs": [
    {
     "name": "stdin",
     "output_type": "stream",
     "text": [
      "Ask me for a number!:  13\n"
     ]
    },
    {
     "name": "stdout",
     "output_type": "stream",
     "text": [
      "112\n"
     ]
    }
   ],
   "source": [
    "# Write an if statement that assigns 0 to the variable b if the variable a is less than 10. Otherwise, it should assign 99 to the variable b.\n",
    "\n",
    "a = int(input(\"Ask me for a number!: \"))\n",
    "b = 0\n",
    "\n",
    "\n",
    "def main():\n",
    "    c = 0\n",
    "    if a > 10:\n",
    "        b = 99\n",
    "        c = a + b\n",
    "        print(c)\n",
    "    else:\n",
    "        c = a + b\n",
    "        print(c)\n",
    "        \n",
    "main()\n",
    "    "
   ]
  },
  {
   "cell_type": "markdown",
   "id": "17e13781-b98a-4227-90b0-c3a068d5eadf",
   "metadata": {},
   "source": [
    "<h4> Let's break down the code further: </h4>\n",
    "<h5> 1. I declared two global variables, <i>a</i> and <i>b</i>. </h5>\n",
    "<h5> 2. I then wrote in a main function that would process the work that we need done. </h5>\n",
    "<h5> 3. The <i>c</i> variable would be declared to collect the results of our if statement. </h5>\n",
    "<h5> 4. If the user's input is less than 10, then the if-statement would kick in where the <i>b</i> variable would be set to 99. Otherwise, the statement would just run as a basic addition problem. </h5>"
   ]
  },
  {
   "cell_type": "markdown",
   "id": "afcf7651-8b27-417d-8d57-620bc26cb0b9",
   "metadata": {},
   "source": [
    "<h3> Algorithm Problem #5 </h3>"
   ]
  },
  {
   "cell_type": "code",
   "execution_count": 35,
   "id": "b0e7d42e-1ceb-470d-b031-f59a8e952aae",
   "metadata": {},
   "outputs": [
    {
     "name": "stdin",
     "output_type": "stream",
     "text": [
      "What is the value you want for this? 13\n",
      "What is the value that you want to put for this? 21\n"
     ]
    },
    {
     "name": "stdout",
     "output_type": "stream",
     "text": [
      "The greater value is amount 2: 21\n"
     ]
    }
   ],
   "source": [
    "#Algorithm Chapter 3, Problem 5. This is the program that will verify the greater number\n",
    "\n",
    "#The user is able to input numbers and will have the program determine the result\n",
    "\n",
    "amount1 = int(input(\"What is the value you want for this?\"))\n",
    "amount2 = int(input(\"What is the value that you want to put for this?\"))\n",
    "\n",
    "if amount1 > 10: #This verifies that the first condition of the problem, that the first number is greater than 10, is satisfied.\n",
    "    if amount2 < 100: #This verifies that the second condition of the problem, that the second number is greater than 100, is satisfied.\n",
    "        if amount1 > amount2: #If amount 1 is greater than amount 2, the first amount will be posted on the console.\n",
    "            print('The greater value is amount 1:', amount1)\n",
    "        else: #If amount 2 is greater, then the second amount will be posted.\n",
    "            print(\"The greater value is amount 2:\", amount2)\n",
    "    else: #Error handling. This invalidates any inputs that are above 100\n",
    "        print(\"amount2 is not less than 100\")\n",
    "else: #This invalidates any inputs that are below 10.\n",
    "    print(\"amount1 is not greater than 10\")"
   ]
  },
  {
   "cell_type": "markdown",
   "id": "ee96a2e4-f252-441b-8151-2f7c78758be1",
   "metadata": {},
   "source": [
    "<h4> Let's break this code down further... </h4>\n",
    "<h5> 1. <i>amount1</i> and <i>amount2</i> are input functions that will collect our data. </h5>\n",
    "<h5> 2. A series of if-statements that checks and determines if the statement is True. Since multiple conditions are being tested for concurrently, there are nested if-statements that check for those additional variables as well. </h5>\n",
    "<h5> 3. The first if-statement checks if <i>amount1</i> is greater than ten. The second determines if <i>amount2</i> is less than 100. The third determines if the first number is greater than the second number. </h5>\n",
    "<h5> 4. The else statements are basic error handlers that tell the user that the inputs are not valid inputs. </h5>"
   ]
  },
  {
   "cell_type": "markdown",
   "id": "ef65a325-e97e-447c-824d-4ba4e6e2c866",
   "metadata": {},
   "source": [
    "<h3> Programming Exercise #1 </h3>"
   ]
  },
  {
   "cell_type": "code",
   "execution_count": 1,
   "id": "162ff75f-fc41-4f42-a4a3-2b56fd62b19f",
   "metadata": {},
   "outputs": [
    {
     "name": "stdin",
     "output_type": "stream",
     "text": [
      "Put in the number for the day of the week. 1\n"
     ]
    },
    {
     "name": "stdout",
     "output_type": "stream",
     "text": [
      "Monday\n"
     ]
    }
   ],
   "source": [
    "#Question 1, Day of the Week\n",
    "\n",
    "#Prompts the user with a question to input a number into the program\n",
    "user_input = int(input(\"Put in the number for the day of the week.\"))\n",
    "\n",
    "#If statement conditional ensures that the appropriate number is given an appropriate result\n",
    "if 1 <= user_input <= 7:\n",
    "    if user_input == 1:\n",
    "        day = \"Monday\"\n",
    "    elif user_input == 2:\n",
    "        day = \"Tuesday\"\n",
    "    elif user_input == 3:\n",
    "        day = \"Wednesday\"\n",
    "    elif user_input == 4:\n",
    "        day = \"Thursday\"\n",
    "    elif user_input == 5:\n",
    "        day = \"Friday\"\n",
    "    elif user_input == 6:\n",
    "        day = \"Saturday\"\n",
    "    else:\n",
    "        day = \"Sunday\"\n",
    "else: #Error handling\n",
    "    print(\"You didn't put in a number from 1 to 7\")\n",
    "\n",
    "print(day)"
   ]
  },
  {
   "cell_type": "markdown",
   "id": "3c0f4687-db57-4f5b-9faa-af9c6d75a241",
   "metadata": {},
   "source": [
    "<h4> This program is simple, but let's break it down some more... </h4>\n",
    "<h5> 1. The user is prompted to input their information into the function. If it's not an integer, then the program breaks. </h5>\n",
    "<h5> 2. For every day that exists, a number from 1 to 7 is assigned to a given day. </h5>\n",
    "<h5> 3. If a user puts in a number that isn't assigned a day, then the program returns an error. </h5>\n",
    "<h5> 4. The day is printed out onto the console. </h5>"
   ]
  },
  {
   "cell_type": "markdown",
   "id": "c226f107-6cc3-4e78-bf48-9155c861890b",
   "metadata": {},
   "source": [
    "<h3> Programming Exercise #5 </h3>"
   ]
  },
  {
   "cell_type": "code",
   "execution_count": 4,
   "id": "d825f2d3-dcca-41b9-8da7-259d4da61cd4",
   "metadata": {},
   "outputs": [
    {
     "name": "stdin",
     "output_type": "stream",
     "text": [
      "Put a weight in kilograms here:  134\n"
     ]
    },
    {
     "name": "stdout",
     "output_type": "stream",
     "text": [
      "It's too heavy! 1313.2 Newtons\n"
     ]
    }
   ],
   "source": [
    "#Question 5, Mass and Weight\n",
    "\n",
    "#Ask the user for an input\n",
    "\n",
    "user_input = int(input(\"Put a weight in kilograms here: \"))\n",
    "\n",
    "#Apply the user input to the equation\n",
    "\n",
    "newtons = (user_input * 9.8)\n",
    "\n",
    "#If conditional is used to determine if our number passes the newton weight test\n",
    "\n",
    "if newtons >= 100 and newtons <= 500:\n",
    "    print(newtons, \"Newtons\")\n",
    "elif newtons < 100:\n",
    "    print(\"It's too light!\", newtons, \"Newtons\")\n",
    "elif newtons > 500:\n",
    "    print(\"It's too heavy!\", newtons, \"Newtons\")"
   ]
  },
  {
   "cell_type": "markdown",
   "id": "cba13933-1734-4b3c-ad3d-f7422b3ca02b",
   "metadata": {},
   "source": [
    "<h4> Newtons: They're heavily delicious! </h4>\n",
    "<h5> 1. The user is asked for a number to put into the program. </h5>\n",
    "<h5> 2. A variable, <i>newtons</i>, is set to the user's input times 9.8. </h5>\n",
    "<h5> 3. An if-statement weighs out the given input. If it's under 100, or above 500, the program tells the user it's too heavy or light. </h5>"
   ]
  },
  {
   "cell_type": "markdown",
   "id": "b04155e2-f9ca-4864-9457-89446db9860c",
   "metadata": {},
   "source": [
    "<h3> Programming Exercise #16 </h3>"
   ]
  },
  {
   "cell_type": "code",
   "execution_count": 6,
   "id": "af36806a-d27d-470d-9579-9c7a8059d7b2",
   "metadata": {},
   "outputs": [
    {
     "name": "stdin",
     "output_type": "stream",
     "text": [
      "Check how many days in February this year has!:  1260\n"
     ]
    },
    {
     "name": "stdout",
     "output_type": "stream",
     "text": [
      "In 1260, February has 29 days.\n"
     ]
    }
   ],
   "source": [
    "#Question 16, February Days\n",
    "\n",
    "#Create the input field\n",
    "\n",
    "user_input = int(input(\"Check how many days in February this year has!: \"))\n",
    "\n",
    "#If conditional is utilized to determine the year's days in February.\n",
    "\n",
    "#According to the rules set out by the Gregorian Calendar, there are rules regarding a year's apportionment of February days in order to ensure the calendar is stable with the seasons.\n",
    "\n",
    "#If a year is divisible by 4, it is a leap year.\n",
    "#If a year is divisible by 100, it is not a leap year.\n",
    "#If a year is divisible by 400, it is a leap year.\n",
    "\n",
    "#The % symbol is the remainder symbol. If the remainder of the division problem is not equal to zero (4 and 400 results), then the program goes to the else statement.\n",
    "\n",
    "#However, for determining the result of 100, it must not be set to zero as without the not operand the program will assume that those years have leap years.\n",
    "\n",
    "if (user_input % 4 == 0 and user_input % 100 != 0) or (user_input % 400 == 0):\n",
    "    days = 29\n",
    "else:\n",
    "    days = 28\n",
    "\n",
    "print(f\"In {user_input}, February has {days} days.\")"
   ]
  },
  {
   "cell_type": "markdown",
   "id": "6bcdc706-5979-41a4-bc87-6bd3303b19fa",
   "metadata": {},
   "source": [
    "<h4> Ever wondered how many days February has in a year? </h4>\n",
    "<h5> 1. The user is asked for an integer input. </h5>\n",
    "<h5> 2. The comments describe the process in which a leap year is established. </h5>\n",
    "<h5> 3. The if-statement then puts the number to the test. It takes the remainder of a year that is divided by 4. If it is 0, then it is a leap year. This is true for numbers divided by 400 as well. </h5>\n",
    "<h5> 4. However, if the user's input is divisble by 100 and does NOT produce a result that is zero, then it is a leap year. This is the rule that sets the fact that if a year is divisble by 100, then it is not a leap year. </h5>\n",
    "<h5> 5. The results are then printed to console. </h5>"
   ]
  },
  {
   "cell_type": "markdown",
   "id": "6b4f2d3a-74b2-47b5-a28f-6f9fed196d72",
   "metadata": {},
   "source": [
    "<h3> Programming Exercise #17 </h3>"
   ]
  },
  {
   "cell_type": "code",
   "execution_count": null,
   "id": "318b5da5-3496-427d-b06b-26bb4aa1d3aa",
   "metadata": {},
   "outputs": [],
   "source": [
    "#Question 17, Wi-Fi Diagnostic Tree\n",
    "\n",
    "#This is a rudimentary tool to diagnose Wi-Fi issues and problems\n",
    "\n",
    "print(\"This is a guide to fixing your router's Wi-Fi connection.\")\n",
    "print(\"Please follow the steps below to ensure the best results.\")\n",
    "\n",
    "#The best way to create the diagnostic tree was a series of if-else statements. This is because there are multiple questions and multiple answers being utilized in the diagnostic.\n",
    "\n",
    "#Step 1, Reboot the computer\n",
    "print(\"Step 1: Reset the Computer.\")\n",
    "computer_reset = input(\"Did resetting your computer work? (yes/no)\").lower()\n",
    "\n",
    "if computer_reset == \"yes\":\n",
    "    print(\"Thanks for using our manual!\")\n",
    "else:\n",
    "    print(\"Reboot the router\")\n",
    "#Step 2, Reboot the router    \n",
    "    reboot = input(\"Did rebooting the router work? (yes/no)\").lower()\n",
    "if reboot == \"yes\":\n",
    "    print(\"Thanks for using our manual!\")\n",
    "else:\n",
    "    print(\"Try checking the cables and reconnecting them into the router.\")\n",
    "#Step 3, Connect the cables    \n",
    "    cables = input(\"Did re-connecting the cables work? (yes/no)\").lower()\n",
    "if cables == \"yes\":\n",
    "    print(\"Thank you for using our manual.\")\n",
    "else:\n",
    "    print(\"Move the router to a different location\")\n",
    "#Step 4, Move the router    \n",
    "    router = input(\"Did moving the router work? (yes/no)\").lower()\n",
    "if router == \"yes\":\n",
    "    print(\"Thank you for using our manual!\")\n",
    "else:\n",
    "    print(\"Sorry, looks like you will need a new router!\")"
   ]
  },
  {
   "cell_type": "markdown",
   "id": "7d7856a7-1b61-475d-8795-458a8717dfc5",
   "metadata": {},
   "source": [
    "<h4> Are you tired of dealing with ISP customer service? Try this program out! </h4>\n",
    "<h5> 1. The program starts up with a greeting. </h5>\n",
    "<h5> 2. Then, the program asks a series of questions relating to the internet issue. The actions continue until the end is reached. A series of variables are used to carry the information down the code until the end is reached. </h5>"
   ]
  }
 ],
 "metadata": {
  "kernelspec": {
   "display_name": "anaconda-2022.05-py39",
   "language": "python",
   "name": "conda-env-anaconda-2022.05-py39-py"
  },
  "language_info": {
   "codemirror_mode": {
    "name": "ipython",
    "version": 3
   },
   "file_extension": ".py",
   "mimetype": "text/x-python",
   "name": "python",
   "nbconvert_exporter": "python",
   "pygments_lexer": "ipython3",
   "version": "3.9.12"
  }
 },
 "nbformat": 4,
 "nbformat_minor": 5
}
