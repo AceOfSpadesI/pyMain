{
 "cells": [
  {
   "cell_type": "markdown",
   "id": "d5a2423b-3151-457d-8ae9-c560c29ec827",
   "metadata": {},
   "source": [
    "# Chapter 2: Input, Processing, and Output"
   ]
  },
  {
   "cell_type": "markdown",
   "id": "b1a57278-f530-4916-a3ee-ff24a4890a74",
   "metadata": {},
   "source": [
    "<h4>In this chapter, we were going over over the process in which strings are processed within Python. This chapter introduces a bedrock foundation in which strings are processed, which is the input the user puts into the program.</h4>"
   ]
  },
  {
   "cell_type": "markdown",
   "id": "4c093d1d-99e0-4305-8c5d-2fc2ffadf941",
   "metadata": {},
   "source": [
    "<h3>Algorithm Problem 2</h3>"
   ]
  },
  {
   "cell_type": "code",
   "execution_count": 8,
   "id": "5868db2f-73a6-4f35-8755-7bb232b05bbc",
   "metadata": {},
   "outputs": [
    {
     "name": "stdin",
     "output_type": "stream",
     "text": [
      "What color do you want? Purple\n"
     ]
    },
    {
     "name": "stdout",
     "output_type": "stream",
     "text": [
      "Purple\n"
     ]
    }
   ],
   "source": [
    "# The question asks us to ask the user for input, then assign the data to a variable.\n",
    "\n",
    "\n",
    "color = input(\"What color do you want?\")\n",
    "print(color)"
   ]
  },
  {
   "cell_type": "markdown",
   "id": "3872b1eb-5db8-4cdf-b2ec-c81b8900e380",
   "metadata": {},
   "source": [
    "<h4>An explanation for the written code: </h4>\n",
    "<h5> 1. A <i>color</i> variable is created to collect the data inputted by the user. </h5>\n",
    "<h5> 2. We then have the variable printed out via the print function, which displays the result on the terminal. </h5>"
   ]
  },
  {
   "cell_type": "markdown",
   "id": "dcc94449-2f56-4f4b-88fa-5ce48634d422",
   "metadata": {},
   "source": [
    "<h3>Programming Exercise 10</h3>"
   ]
  },
  {
   "cell_type": "code",
   "execution_count": 18,
   "id": "d286fdb4-22fe-4469-891a-b42bd3faac32",
   "metadata": {},
   "outputs": [
    {
     "name": "stdin",
     "output_type": "stream",
     "text": [
      "Fire up those ovens! How many cookies are we going to make today? 123\n"
     ]
    },
    {
     "name": "stdout",
     "output_type": "stream",
     "text": [
      "To make the number of cookies you want, 123, you will need...\n",
      "Look at that Jack! You will need 3.84375 cups of sweet sweet sugar to make this happen!\n",
      "Don't slip! You will need 2.5625 cups of dairy fat-I mean butter to make this all possible!\n",
      "For the foundation of your wonderful cookies, you will need 7.046875 cups of flour to make this happen!\n"
     ]
    }
   ],
   "source": [
    "# Each ingredient is pre-defined. The left number is the number of cups needed to create a batch of 48 cookies.\n",
    "sugarAmount = 1.5 / 48\n",
    "butterAmount = 1 / 48\n",
    "flourAmount = 2.75 / 48\n",
    "\n",
    "# User is then given a prompt to ask the program how many cookies they would like to make.\n",
    "cookies = int(input(\"Fire up those ovens! How many cookies are we going to make today?\"))\n",
    "\n",
    "# Program then takes the quotient of the upper variables, and multiplies them by the number of cookies the user wants to make.\n",
    "sugarRequired = sugarAmount * cookies\n",
    "butterRequired = butterAmount * cookies\n",
    "flourRequired = flourAmount * cookies\n",
    "\n",
    "# Program outputs the result of the math.\n",
    "print(f\"To make the number of cookies you want, {cookies}, you will need...\")\n",
    "print(f\"Look at that Jack! You will need {sugarRequired} cups of sweet sweet sugar to make this happen!\")\n",
    "print(f\"Don't slip! You will need {butterRequired} cups of dairy fat-I mean butter to make this all possible!\")\n",
    "print(f\"For the foundation of your wonderful cookies, you will need {flourRequired} cups of flour to make this happen!\")"
   ]
  },
  {
   "cell_type": "markdown",
   "id": "dd9734cf-15c6-453b-9b9a-4806c3eba9bf",
   "metadata": {},
   "source": [
    "<h4>An explanation for the written code: </h4>\n",
    "<h5> 1. First, we create variables that would be the amount of ingredients we would use in a given amount of cookies. These we would later know them as global constants. These variables (<i>sugarAmount, butterAmount, and flourAmount.</i>) would contribute to our final calculations later on in the program. </h5>\n",
    "<h5> 2. We then ask the user an input, that <b>must</b> be an integer, else the program would return an error message. </h5>\n",
    "<h5> 3. Then, we convert what the user put in as input into the ingredients that were used in the recipe. These would be the variables (<i>sugarRequired, butterRequired, and flourRequired.</i>)</h5>\n",
    "<h5> 4. We then print the recipe required to make the user's input of cookies. An f-string is used to bring the results of the calculations into the console. </h5>"
   ]
  },
  {
   "cell_type": "markdown",
   "id": "15c4b93e-6fc0-4199-ab20-36b9a66ae0d2",
   "metadata": {},
   "source": [
    "<h4>Programming Exercise 13</h4>"
   ]
  },
  {
   "cell_type": "code",
   "execution_count": null,
   "id": "2e48927f-634e-4ba1-a7e6-8b2d6591a31c",
   "metadata": {},
   "outputs": [],
   "source": [
    "# User inputs the parameters for the grapevine. Each of these inputs is necessary to run the equation that is defined below. They were named more bluntly to ensure clarity.\n",
    "\n",
    "user_length = int(input(\"Input the length of the vineyard here in feet:\")) # Our \"R\" variable.\n",
    "user_space = int(input(\"Input the amount of space used in feet by an end post assembly here:\")) # Our \"E\" variable.\n",
    "user_vines = int(input(\"Input the space in between the vines in feet here:\")) # Our \"S\" variable.\n",
    "\n",
    "# Equation that is used in order to calculate the total number of grapevines that would fit. grapevine_total is the \"V\" variable that was found in the problem.\n",
    "\n",
    "grapevine_total = (user_length - (2 * user_space)) / user_vines\n",
    "\n",
    "# As Python doesn't automatically round floating points, I added a round function to simplify the final result so the end product would not be an unreasonable decimal.\n",
    "\n",
    "rounded_grapevines = round(grapevine_total)\n",
    "\n",
    "# I added an if statement to create a realistic result for the grapevines, as having negative grapevines makes no sense.\n",
    "\n",
    "if rounded_grapevines > 0:\n",
    "    print(f\"The number of grapevines that will fit here in the row is {rounded_grapevines}\") # If the resulting number is above zero, the result is posted into the console.\n",
    "if rounded_grapevines < 0:\n",
    "    print(\"You can't fit any grapevines here, try again!\") # If the resulting number is a negative number, the result is not posted into the console."
   ]
  },
  {
   "cell_type": "markdown",
   "id": "f7f71a74-032b-48e1-a2c3-217597f8ab7a",
   "metadata": {},
   "source": [
    "<h4>The last explanation of the code:</h4>\n",
    "<h5> I had a lot of fun trying to hone in the results of the grapevines to make them as accurate as possible. I knew that the results I would get would be decimals, and since that didn't make any sense to me, I decided on adding a bit more code to the result. </h5>\n",
    "<h5> 1. Each of the input variables that are needed: The length, amount of space, and space in between vines. </h5>\n",
    "<h5> 2. The <i>grapevine_total</i> variable does the calculation. </h5>\n",
    "<h5> 3. <i>grapevine_total</i> has the round function applied to it. The result is the <i>rounded_grapevines</i> variable. </h5>\n",
    "<h5> 4. An if conditional is in place to act as a error handler. If the result the user put in is less than 0, then the program doesn't output a negative, but a message saying that their result doesn't work. </h5>\n"
   ]
  },
  {
   "cell_type": "code",
   "execution_count": null,
   "id": "4f113c70-7077-46c7-959a-5f9e557d94f2",
   "metadata": {},
   "outputs": [],
   "source": []
  }
 ],
 "metadata": {
  "kernelspec": {
   "display_name": "anaconda-panel-2023.05-py310",
   "language": "python",
   "name": "conda-env-anaconda-panel-2023.05-py310-py"
  },
  "language_info": {
   "codemirror_mode": {
    "name": "ipython",
    "version": 3
   },
   "file_extension": ".py",
   "mimetype": "text/x-python",
   "name": "python",
   "nbconvert_exporter": "python",
   "pygments_lexer": "ipython3",
   "version": "3.11.5"
  }
 },
 "nbformat": 4,
 "nbformat_minor": 5
}
