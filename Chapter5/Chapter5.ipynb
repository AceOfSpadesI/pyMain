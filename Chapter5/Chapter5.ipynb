{
 "cells": [
  {
   "cell_type": "markdown",
   "id": "a5cacc1c-ca02-4874-9da6-86b2f43caf39",
   "metadata": {},
   "source": [
    "# Chapter 5: Functions"
   ]
  },
  {
   "cell_type": "markdown",
   "id": "8534265b-31fe-49a8-92b8-c8878dd1c378",
   "metadata": {},
   "source": [
    "<h4> Functions are statements that contain a set of operations. </h4>"
   ]
  },
  {
   "cell_type": "markdown",
   "id": "2b282f80-9ae9-4d9a-bb01-49dffc827ab4",
   "metadata": {},
   "source": [
    "<h3> Algorithm Problem # 1 </h3>"
   ]
  },
  {
   "cell_type": "code",
   "execution_count": 1,
   "id": "e26109e9-2b33-467e-8ae9-b178e1f24491",
   "metadata": {},
   "outputs": [
    {
     "name": "stdin",
     "output_type": "stream",
     "text": [
      "What number do you want to put into here? 13\n"
     ]
    },
    {
     "name": "stdout",
     "output_type": "stream",
     "text": [
      "The result of the number inputted times ten is: 130\n"
     ]
    }
   ],
   "source": [
    "# Algorithm Workbench Question 1\n",
    "\n",
    "#Create the function header needed to complete the problem\n",
    "\n",
    "def times_ten(num): #num is the argument being passed into the parameter\n",
    "    result = num * 10 #result is the core piece of this function, multiplying the user result by ten\n",
    "    print(f\"The result of the number inputted times ten is: {result}\")\n",
    "\n",
    "num = int(input(\"What number do you want to put into here?\"))\n",
    "times_ten(num) #Function Call"
   ]
  },
  {
   "cell_type": "markdown",
   "id": "8afe1301-c538-4725-8b46-a196ee78707d",
   "metadata": {},
   "source": [
    "<h4> A Simple Function: </h4>\n",
    "<h5> 1. The function <b>times_ten</b> is declared with <i>num</i> as an argument. </h5>\n",
    "<h5> 2. The <i>result</i> variable is the result of the inputted number asked. This can be found at the bottom of the code. </h5>\n",
    "<h5> 3. The result is printed, and the function is called into action. </h5>"
   ]
  },
  {
   "cell_type": "markdown",
   "id": "f3cace8f-9f7a-499d-8afb-c6b2b8e2b405",
   "metadata": {},
   "source": [
    "<h3> Algorithm Problem # 5 </h3>"
   ]
  },
  {
   "cell_type": "code",
   "execution_count": 3,
   "id": "1b6f8d7e-4afc-484e-877d-e22f3b81afb3",
   "metadata": {},
   "outputs": [
    {
     "name": "stdout",
     "output_type": "stream",
     "text": [
      "2.0\n"
     ]
    }
   ],
   "source": [
    "# Algorithm Problem 5, Chapter 5\n",
    "\n",
    "# Look at the following function definition:\n",
    "\n",
    "def my_function(a, b, c):\n",
    "    d = (a+c) / b\n",
    "    print(d)\n",
    "\n",
    "# A. Write a statement that calls this function and uses keyword\n",
    "# arugments to pass 2 into a, 4 into b, and 6 into c\n",
    "\n",
    "my_function(2, 4, 6)\n",
    "\n",
    "# Explaination: The function call simply plugs the book given ints as args into the brackets\n",
    "\n",
    "# B. What value will be displayed when the function call executes?\n",
    "# Answer: 2.0"
   ]
  },
  {
   "cell_type": "markdown",
   "id": "9a9ee933-448e-43af-91f1-07a3d19b67c2",
   "metadata": {},
   "source": [
    "<h4> Another Wild Function! </h4>\n",
    "<h5> 1. The function <b>my_function</b> is declared, with <i>a, b, and c</i> being passed as arguments. </h5>\n",
    "<h5> 2. The function processes the arguments and returns them as <i>d</i>. </h5>\n",
    "<h5> 3. <i>d</i> is printed to console, and the function is called with 2, 4, and 6 as parameters. </h5>"
   ]
  },
  {
   "cell_type": "markdown",
   "id": "7ffb323b-60ef-4666-ad69-50c6ecd8ec31",
   "metadata": {},
   "source": [
    "<h3> Programming Exercise # 1 </h3>"
   ]
  },
  {
   "cell_type": "code",
   "execution_count": 5,
   "id": "5cf5bbff-20ce-49a4-b89c-a47f76bf06d6",
   "metadata": {},
   "outputs": [
    {
     "name": "stdin",
     "output_type": "stream",
     "text": [
      "How long is the distance in kilometers? 250\n"
     ]
    },
    {
     "name": "stdout",
     "output_type": "stream",
     "text": [
      "It is 155.35 miles away\n"
     ]
    }
   ],
   "source": [
    "# Progrmaming Exercises Question 1, Chapter 5\n",
    "\n",
    "# Kilometer Converter: Write a program that asks the user to enter a distance in kilometers, then converts that distance to miles.\n",
    "\n",
    "# In order to complete this exercise, we must ask ourselves the formula that is used to convert the units\n",
    "\n",
    "# This is done by the formula Miles = Kilometers * 0.6214\n",
    "\n",
    "# Using functions, the program becomes easier to write\n",
    "km = float(input(\"How long is the distance in kilometers?\"))\n",
    "\n",
    "def km_to_mi(km):\n",
    "    miles = km * 0.6214\n",
    "    print(f\"It is {miles} miles away\")\n",
    "\n",
    "km_to_mi(km)"
   ]
  },
  {
   "cell_type": "markdown",
   "id": "1bd98ee2-71de-42a7-9903-f054df641825",
   "metadata": {},
   "source": [
    "<h4> KM to MILES Converter </h4>\n",
    "<h5> 1. A function is declared that passes <i>km</i> as an argument. </h5>\n",
    "<h5> 2. The <i>miles</i> variable is <i>km</i> times 0.6214. </h5>\n",
    "<h5> 3. The result is printed, with the function called. </h5>"
   ]
  },
  {
   "cell_type": "markdown",
   "id": "e1e38c8c-ab03-4c7d-83f1-2fe90340c687",
   "metadata": {},
   "source": [
    "<h3> Programming Exercise # 7 </h3>"
   ]
  },
  {
   "cell_type": "code",
   "execution_count": 7,
   "id": "51647b5c-28a7-4ca6-a1ad-055a65048fa8",
   "metadata": {},
   "outputs": [
    {
     "name": "stdin",
     "output_type": "stream",
     "text": [
      "How many Class A tickets were sold? 14\n",
      "How many Class B tickets were sold? 21\n",
      "How many Class C tickets were sold? 45\n"
     ]
    },
    {
     "name": "stdout",
     "output_type": "stream",
     "text": [
      "The total income generated from the ticket sales is: $ 1045\n"
     ]
    }
   ],
   "source": [
    "# Programming Exercise 7, Chapter 5\n",
    "\n",
    "# Create the global variables that are necessary for the program to function.\n",
    "\n",
    "classA = 20\n",
    "classB = 15\n",
    "classC = 10\n",
    "\n",
    "# Create the function that will use these global variables as arguments\n",
    "def calc_income(totalA, totalB, totalC):\n",
    "    income = (totalA * classA) + (totalB * classB) + (totalC * classC)\n",
    "    return income\n",
    "\n",
    "def total_amount():\n",
    "    totalA = int(input(\"How many Class A tickets were sold?\"))\n",
    "    totalB = int(input(\"How many Class B tickets were sold?\"))\n",
    "    totalC = int(input(\"How many Class C tickets were sold?\"))\n",
    "    return totalA, totalB, totalC\n",
    "\n",
    "def main():\n",
    "    totalA, totalB, totalC = total_amount()\n",
    "    income = calc_income(totalA, totalB, totalC)\n",
    "    print(\"The total income generated from the ticket sales is: $\", income)\n",
    "\n",
    "if __name__ == \"__main__\":\n",
    "    main()"
   ]
  },
  {
   "cell_type": "markdown",
   "id": "4079c48a-865e-43de-8cc5-985a698c5e18",
   "metadata": {},
   "source": [
    "<h4> Ticketmaster! Without the Eras of Headaches. </h4>\n",
    "<h5> 1. Global variables are created to set how much each ticket will cost. This is important as our function will use all three in some capacity. </h5>\n",
    "<h5> 2. The <b>calc_income</b> function is set to the user's input of how many of each ticket is, times the amount set in the global variables. </h5>\n",
    "<h5> 3. <b>total_amount</b> is asking the user for the amounts of each ticket sold. </h5>\n",
    "<h5> 4. <b>main</b> is set to tie the entire program together. <b>total_amount</b> is declared with <i>totalA, totalB, totalC</i>. <b>calc_income</b> is declared with the <i>income</i> variable. Then the entire result of all tickets is printed to console. </h5>\n",
    "<h5> 5. The last two lines of code call the main function so as long as the program is not ran as a module. </h5>"
   ]
  },
  {
   "cell_type": "markdown",
   "id": "9f07ffca-2f92-4a4d-9e4b-2cdf0b7547a9",
   "metadata": {},
   "source": [
    "<h3> Programming Exercise # 17 </h3>"
   ]
  },
  {
   "cell_type": "code",
   "execution_count": 9,
   "id": "1630ffdf-ca48-4a0a-84ff-862c3eb3fc95",
   "metadata": {},
   "outputs": [
    {
     "name": "stdin",
     "output_type": "stream",
     "text": [
      "Enter a number:  13\n"
     ]
    },
    {
     "name": "stdout",
     "output_type": "stream",
     "text": [
      "13 is a prime number\n"
     ]
    }
   ],
   "source": [
    "# Question 17, Prime Numbers\n",
    "\n",
    "# Question asks whether or not your submittion is in fact a prime number\n",
    "\n",
    "# This is done by taking the number and defining it's primeness through a function\n",
    "\n",
    "# Define the function to check a number's primeness\n",
    "def is_prime(num):\n",
    "    if num <= 1:\n",
    "        return False # Numbers that are less than one are not prime because they can be divided by both -1 and 1\n",
    "    for i in range(2, num):\n",
    "        if num % i == 0: # If any number can divide the input, it's not prime\n",
    "            return False\n",
    "    return True\n",
    "    \n",
    "user_input = int(input(\"Enter a number: \")) # Get user input\n",
    "\n",
    "if is_prime(user_input): # Print the results\n",
    "    print(f\"{user_input} is a prime number\")\n",
    "else:\n",
    "    print(\"It's not a prime number!\")"
   ]
  },
  {
   "cell_type": "markdown",
   "id": "f5d46e8b-238f-4269-b447-96961dc1d0be",
   "metadata": {},
   "source": [
    "<h4> Are you a Prime? </h4>\n",
    "<h5> 1. The function is declared with <i>num</i> as the argument. </h5>\n",
    "<h5> 2. An if-statement is ran in which a number is determined to be a prime number. The comments explain each line in more detail, but the general jist is that as long as a number doesn't have a remainder of zero, it is a prime number. </h5>\n",
    "<h5> 3. User input is asked for. </h5>\n",
    "<h5> 4. Another if-statement is used to call the function and run the program. It will return true if the number is prime. </h5>"
   ]
  },
  {
   "cell_type": "markdown",
   "id": "f2460805-f6c3-4008-87c8-087f0e8c3f9d",
   "metadata": {},
   "source": [
    "<h3> Programming Exercise # 18 </h3>"
   ]
  },
  {
   "cell_type": "code",
   "execution_count": 11,
   "id": "20dfdac9-ddb6-48ca-8940-a4379da71079",
   "metadata": {},
   "outputs": [
    {
     "name": "stdout",
     "output_type": "stream",
     "text": [
      "2 3 5 7 11 13 17 19 23 29 31 37 41 43 47 53 59 61 67 71 73 79 83 89 97 "
     ]
    }
   ],
   "source": [
    "# Question 18, Chapter 5, Prime Number List\n",
    "\n",
    "def is_prime(num):\n",
    "    if num <= 1:\n",
    "        return False # Numbers that are less than one are not prime because they can be divided by both -1 and 1\n",
    "    for i in range(2, num):\n",
    "        if num % i == 0: # If any number can divide the input, it's not prime\n",
    "            return False\n",
    "    return True\n",
    "    \n",
    "for num in range(1, 101): # For loop cycles through to find any available primes\n",
    "    if is_prime(num): # If statement calls the function to operate\n",
    "        print(num, end=\" \") # Prints the true results of num and spaces them out with the end parameter"
   ]
  },
  {
   "cell_type": "markdown",
   "id": "7f0c4c92-1660-400d-ba43-448a0698e464",
   "metadata": {},
   "source": [
    "<h4> List of Primes </h4>\n",
    "<h5> 1. Similar to our previous problem, the code for determining the primeness of a number is brought down. </h5>\n",
    "<h5> 2. For every num in range from 1 to 101, if a number is found to be prime, it is printed to the console. </h5>"
   ]
  }
 ],
 "metadata": {
  "kernelspec": {
   "display_name": "anaconda-2022.05-py39",
   "language": "python",
   "name": "conda-env-anaconda-2022.05-py39-py"
  },
  "language_info": {
   "codemirror_mode": {
    "name": "ipython",
    "version": 3
   },
   "file_extension": ".py",
   "mimetype": "text/x-python",
   "name": "python",
   "nbconvert_exporter": "python",
   "pygments_lexer": "ipython3",
   "version": "3.9.12"
  }
 },
 "nbformat": 4,
 "nbformat_minor": 5
}
