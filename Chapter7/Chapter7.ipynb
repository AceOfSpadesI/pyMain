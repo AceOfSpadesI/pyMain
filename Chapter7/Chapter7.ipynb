{
 "cells": [
  {
   "cell_type": "markdown",
   "id": "b3a4b65f-6a9e-4e22-b627-8e5b663acefa",
   "metadata": {},
   "source": [
    "# Chapter 7: Lists and Tuples"
   ]
  },
  {
   "cell_type": "markdown",
   "id": "aa1e9b88-e696-4e29-9931-9ab4118f38b3",
   "metadata": {},
   "source": [
    "<h3>This chapter focuses on lists and tuples, which are both data arrays that are capable of holding and handling data.</h3>"
   ]
  },
  {
   "cell_type": "markdown",
   "id": "25061b9b-a06f-4fb5-a8af-72d475879b02",
   "metadata": {},
   "source": [
    "# Algorithm Workbench #1"
   ]
  },
  {
   "cell_type": "code",
   "execution_count": 47,
   "id": "7b85d9df-41fe-44d7-9b78-2c46d9a8a755",
   "metadata": {},
   "outputs": [],
   "source": [
    "# Write a list that contains the strings: \"Kepler\", \"Copernicus\", \"Einstein\", and \"Newton\"\n",
    "\n",
    "science = [\"Kepler\", \"Copernicus\", \"Einstein\", \"Newton\"]"
   ]
  },
  {
   "cell_type": "markdown",
   "id": "47e847a7-51da-4712-9f0b-7d40645f6f76",
   "metadata": {},
   "source": [
    "# Algorithm Workbench #2"
   ]
  },
  {
   "cell_type": "code",
   "execution_count": 49,
   "id": "0ab2c697-6d4c-4f58-8e38-4c79dd4a24da",
   "metadata": {},
   "outputs": [
    {
     "name": "stdout",
     "output_type": "stream",
     "text": [
      "Candy\n",
      "Chocolate\n",
      "Lolipops\n",
      "Sugar-bombs\n"
     ]
    }
   ],
   "source": [
    "# Write a list that contains the strings: \"Kepler\", \"Copernicus\", \"Einstein\", and \"Newton\"\n",
    "\n",
    "sweets = [\"Candy\", \"Chocolate\", \"Lolipops\", \"Sugar-bombs\"]\n",
    "\n",
    "for element in sweets:\n",
    "    print(element)"
   ]
  },
  {
   "cell_type": "markdown",
   "id": "daacf332-cbf8-4f85-8e1c-d30efa355640",
   "metadata": {},
   "source": [
    "# Programming Exercise #1"
   ]
  },
  {
   "cell_type": "markdown",
   "id": "bbf0c8eb-c8c3-48e8-b4f2-82428c5560a0",
   "metadata": {},
   "source": [
    "<h5> ChatGPT helped me a lot on this exercise. I had initally thought of using just a for loop to iterate through the results like in the algorithm workbenches, but instead found out I needed more than just the list. I needed to initalize the array as well.</h5>"
   ]
  },
  {
   "cell_type": "code",
   "execution_count": 57,
   "id": "04714f6e-3751-43a4-8396-1204c9a4b658",
   "metadata": {},
   "outputs": [
    {
     "name": "stdin",
     "output_type": "stream",
     "text": [
      "Enter the number of sales for Monday: $ 14.22\n",
      "Enter the number of sales for Tuesday: $ 54.22\n",
      "Enter the number of sales for Wednesday: $ 645.12\n",
      "Enter the number of sales for Thursday: $ 45.23\n",
      "Enter the number of sales for Friday: $ 65.23\n",
      "Enter the number of sales for Saturday: $ 78.23\n",
      "Enter the number of sales for Sunday: $ 0\n"
     ]
    },
    {
     "name": "stdout",
     "output_type": "stream",
     "text": [
      "\n",
      "The total sales for the week is $902.25\n"
     ]
    }
   ],
   "source": [
    "def calc_total_sales(sales):\n",
    "    total_sales = sum(sales)\n",
    "    return total_sales\n",
    "\n",
    "def main():\n",
    "    \n",
    "    # Initalize an empty list to interact with\n",
    "    daily_sales = []\n",
    "    \n",
    "    # This is the loop to prompt the user on each iteration (Each day) on how many sales were made that day.\n",
    "    for day in [\"Monday\", \"Tuesday\", \"Wednesday\", \"Thursday\", \"Friday\", \"Saturday\", \"Sunday\"]:\n",
    "        sales = float(input(f\"Enter the number of sales for {day}: $\"))\n",
    "        daily_sales.append(sales)\n",
    "        \n",
    "    # Calculate the final results of the week's sales    \n",
    "    total_sales = calc_total_sales(daily_sales)\n",
    "    \n",
    "    # Print the final result\n",
    "    print(f\"\\nThe total sales for the week is ${total_sales:.2f}\")\n",
    "        \n",
    "# Call the main function\n",
    "if __name__ == \"__main__\":\n",
    "        main()\n"
   ]
  },
  {
   "cell_type": "markdown",
   "id": "e95173fd-8e96-4b06-9e16-baa3ec4d23e8",
   "metadata": {},
   "source": [
    "<h4>Explanation for the code: Line by Line</h4>\n",
    "\n",
    "<h5> 1. In main(), we initalized a list to add data into. </h5>\n",
    "<h5> 2. Then, in a loop of all the elements, we ask the user for numbers. </h5>\n",
    "<h5> 3. These user-inputted values are then appended using the append function, which passes sales as an argument. </h5>\n",
    "<h5> 4. Sales is passed as an argument for calc_total_sales(), which then is passed through the sum function, which adds together everything in the argument. </h5>\n",
    "<h5> 5. total_sales, the variable, is the result of the calc_sales function that passes our list as an argument. This is how our content is added together. </h5>\n",
    "<h5> 6. We then print the final result of the code. </h5>\n",
    "<h5> 7. And last but not least, we call the main function to run the program. </h5>"
   ]
  },
  {
   "cell_type": "markdown",
   "id": "ba1b66b5-0488-4c8b-af7c-f2cd1b8d5f48",
   "metadata": {},
   "source": [
    "# Programming Exercise #11"
   ]
  },
  {
   "cell_type": "markdown",
   "id": "f6dc989f-ca8b-4b81-aad1-cdf76a5d5956",
   "metadata": {},
   "source": [
    "<h5> I won't lie, this one was an interesting one, as I realized that in order for the code to make sense, it had to be written out of order. You create the arrays first, and then have the main function interact with those arrays. It's confusing, but if you start with something simple, you can add the complexities on top of it. Like the array, you build the array and then build the function on top of that. </h5>"
   ]
  },
  {
   "cell_type": "code",
   "execution_count": 81,
   "id": "eab44c74-3647-45e6-83a8-2bba64175ab4",
   "metadata": {},
   "outputs": [
    {
     "name": "stdout",
     "output_type": "stream",
     "text": [
      "Magic Square 1 is Lo Shu Magic Square: True\n",
      "Magic Square 2 is Lo Shu Magic Square: False\n"
     ]
    }
   ],
   "source": [
    "# The objective here is to test if a given list is a Lo Shu square or not\n",
    "\n",
    "def mag_squ(square):\n",
    "    \n",
    "    target = sum(square[0])\n",
    "    \n",
    "    # Check rows to ensure they all add together\n",
    "    if any(sum(row) != target for row in square):\n",
    "        return False\n",
    "    # Check columns\n",
    "    if any(sum(column) != target for column in zip(*square)):\n",
    "        return False\n",
    "    # Check the main diagonal\n",
    "    if sum(square[i][i] for i in range(3)) != target:\n",
    "        return False\n",
    "    # Check secondary diagonal\n",
    "    if sum(square[i][2-i] for i in range(3)) != target:\n",
    "        return False\n",
    "    \n",
    "    return True\n",
    "\n",
    "def main():\n",
    "    # Test cases\n",
    "    magic_square1 = [[4, 9, 2], [3, 5, 7], [8, 1, 6]]\n",
    "    magic_square2 = [[2, 7, 5], [9, 6, 1], [4, 3, 8]]\n",
    "    \n",
    "    print(\"Magic Square 1 is Lo Shu Magic Square:\", mag_squ(magic_square1))\n",
    "    print(\"Magic Square 2 is Lo Shu Magic Square:\", mag_squ(magic_square2))\n",
    "    \n",
    "if __name__ == \"__main__\":\n",
    "    main()"
   ]
  },
  {
   "cell_type": "markdown",
   "id": "5c433b60-d156-4a3c-9c5c-3f557fde32b0",
   "metadata": {},
   "source": [
    "<h4>Explanation for the code: Line by Line</h4>\n",
    "\n",
    "<h5> 1. In main(), I initalized two lists to add data into. </h5>\n",
    "<h5> 2. I plugged in the nunbers already as we won't be taking in any user input. </h5>\n",
    "<h5> 3. Then, going back to the top, I then created the def mag_squ function, which accepts square as an argument. </h5>\n",
    "<h5> 4. The target var was created to collect the sum of the square parameter. </h5>\n",
    "<h5> 5. Afterwards, I then created the conditionals that are required to run the program. </h5>\n",
    "<h5> 6. This includes any rows, columns, and diagonals. </h5>\n",
    "<h5> 7. The magic squares that I had created in main() were matrises, which means they were put into a block form during processing. </h5>\n",
    "<h5> 8. So when I had called the any() function to include all the sum() functions, I had to set it to a not operator to ensure they all added together properly. </h5>\n",
    "<h5> 9. For the diagonals, I had inserted the placeholder \"i\" to include a range of 3 when factoring in the workability of the set of numbers in the matrix. </h5>\n",
    "<h5> 10. The results were printed out to test whether it was a magic square or not. </h5>"
   ]
  },
  {
   "cell_type": "markdown",
   "id": "17aa4026-1a8b-405d-8f9d-79d5aa47683f",
   "metadata": {},
   "source": [
    "# Programming Exercise #12"
   ]
  },
  {
   "cell_type": "markdown",
   "id": "b3f6ae64-1392-4efe-9051-e40964c23c61",
   "metadata": {},
   "source": [
    "<h5>A lot of code from the previous exercise can come in handy here as there is an external file required.</h5>"
   ]
  },
  {
   "cell_type": "code",
   "execution_count": 92,
   "id": "cfabfe90-b863-4f71-b69d-dad3a041e961",
   "metadata": {},
   "outputs": [
    {
     "name": "stdout",
     "output_type": "stream",
     "text": [
      "Welcome to the Magic 8 Ball Simulator!\n"
     ]
    },
    {
     "name": "stdin",
     "output_type": "stream",
     "text": [
      "Ask the Ball a yes or no question (Press enter to continue) Will I become Steve Ballmer?\n",
      "Are you sure you want to quit? (y/n):  n\n"
     ]
    },
    {
     "name": "stdout",
     "output_type": "stream",
     "text": [
      "The Ball says: Yes, of course!\n",
      "\n"
     ]
    },
    {
     "name": "stdin",
     "output_type": "stream",
     "text": [
      "Ask the Ball a yes or no question (Press enter to continue) Developers! Developers! Developers!\n",
      "Are you sure you want to quit? (y/n):  n\n"
     ]
    },
    {
     "name": "stdout",
     "output_type": "stream",
     "text": [
      "The Ball says: Yes, of course!\n",
      "\n"
     ]
    },
    {
     "name": "stdin",
     "output_type": "stream",
     "text": [
      "Ask the Ball a yes or no question (Press enter to continue) Do you like telling me yes?\n",
      "Are you sure you want to quit? (y/n):  n\n"
     ]
    },
    {
     "name": "stdout",
     "output_type": "stream",
     "text": [
      "The Ball says: No way!\n",
      "\n"
     ]
    },
    {
     "name": "stdin",
     "output_type": "stream",
     "text": [
      "Ask the Ball a yes or no question (Press enter to continue) \n",
      "Are you sure you want to quit? (y/n):  y\n"
     ]
    }
   ],
   "source": [
    "# The objective here is to create a program that simulates a Magic 8 Ball.\n",
    "\n",
    "# Import necessary libraries.\n",
    "import random \n",
    "\n",
    "# Python reads the file of responses in the Magic8.txt. Included from Chapter 6 is error handling.\n",
    "\n",
    "def read_file(file_name): \n",
    "    try:\n",
    "        with open(file_name, \"r\") as file:\n",
    "            responses = [line.strip() for line in file]\n",
    "        return responses\n",
    "    except FileNotFoundError:\n",
    "        print(f\"Error: File '{file_name}' not found.\")\n",
    "        return None\n",
    "    except Exception as e:\n",
    "        print(f\"An error occurred while reading your file: {e}\")\n",
    "        return None\n",
    "\n",
    "# The primary function of the Magic 8 Ball.    \n",
    "\n",
    "def mag_8_ball(responses):\n",
    "    while True:\n",
    "        input(\"Ask the Ball a yes or no question (Press enter to continue)\")\n",
    "        \n",
    "        if input(\"Are you sure you want to quit? (y/n): \").lower() == \"y\":\n",
    "            break\n",
    "            \n",
    "        random_response = random.choice(responses)\n",
    "        print(f\"The Ball says: {random_response}\\n\")\n",
    "        \n",
    "        \n",
    "# Main calls all the available functions in the program and tie them all together.\n",
    "\n",
    "def main():\n",
    "    file_name = \"Magic8.txt\" # Call the file.\n",
    "    responses = read_file(file_name)\n",
    "    \n",
    "    print(\"Welcome to the Magic 8 Ball Simulator!\")\n",
    "    mag_8_ball(responses)\n",
    "          \n",
    "# Ensures that the program is not run as a module.        \n",
    "\n",
    "if __name__ == \"__main__\":\n",
    "    main()"
   ]
  },
  {
   "cell_type": "markdown",
   "id": "2e0df65b-af5c-4261-9393-8400e02d2b06",
   "metadata": {},
   "source": [
    "<h4>Explanation for the code: Line by Line</h4>\n",
    "\n",
    "<h5> 1. I imported the library that would be used in the program, which was the random library. </h5>\n",
    "<h5> 2. I had also imported the code I used in Chapter 6 to create a file handler that would seemlessly handle any errors regarding the file processing. I had added a strip method because strip is used to take strings out of text files as data. </h5>\n",
    "<h5> 3. The 8 ball would be a function that passed the responses var created in the file handler as an argument. </h5>\n",
    "<h5> 4. A while loop was inserted to continue the program until the user decided to stop the program. </h5>\n",
    "<h5> 5. The user was then prompted with a question to ask the Magic 8 Ball. </h5>\n",
    "<h5> 6. The random_response var is created by setting it to the result of the random object's choice method, which essentially gives a random option that exists from the list. This is completed by passing the previous response var as an argument to make the program work. </h5>\n",
    "<h5> 7. The main function ties everything together by calling the file and any necessary functions other than itself. </h5>\n",
    "<h5> 8. The final two lines of code call the main function. </h5>"
   ]
  },
  {
   "cell_type": "markdown",
   "id": "e2dc6467-a580-47c2-9ed9-73f9f32a26c1",
   "metadata": {},
   "source": [
    "# Programming Exercise #14"
   ]
  },
  {
   "cell_type": "markdown",
   "id": "6e7d8623-bfc4-4589-a7f3-065cdcb17537",
   "metadata": {},
   "source": [
    "<h5> I had ChatGPT help me out with the matlibplot functions, as they were new to me. I was able to insert the file into the program using other code, and I had brought everything together in the main function. </h5>"
   ]
  },
  {
   "cell_type": "code",
   "execution_count": 107,
   "id": "a580d561-56f4-4616-86d3-da69ab71b70f",
   "metadata": {},
   "outputs": [
    {
     "data": {
      "image/png": "[encoded data removed]",
      "text/plain": [
       "<Figure size 800x800 with 1 Axes>"
      ]
     },
     "metadata": {},
     "output_type": "display_data"
    }
   ],
   "source": [
    "# The objective here is to create a pie chart with mathplotlib\n",
    "\n",
    "# Import the library needed for the program\n",
    "\n",
    "import matplotlib.pyplot as plt\n",
    "\n",
    "# We can borrow the above code for bringing the file into the program.\n",
    "\n",
    "def read_file(file_name):\n",
    "    try:\n",
    "        with open(file_name, \"r\") as file:\n",
    "            expenses = [line.strip().split() for line in file]\n",
    "        return expenses\n",
    "    except FileNotFoundError:\n",
    "        print(f\"Error: File '{file_name}' not found.\")\n",
    "        return None\n",
    "    except Exception as e:\n",
    "        print(f\"An error occurred while reading your file: {e}\")\n",
    "        return None\n",
    "    \n",
    "# We then utilize the matlibplot library to run some functions\n",
    "\n",
    "def pie_chart(expenses):\n",
    "    if expenses is None:\n",
    "        return\n",
    "    \n",
    "    categories, amounts = zip(*expenses)\n",
    "    amounts = [float(amount) for amount in amounts if amount.replace('.', '', 1).isdigit()]\n",
    "\n",
    "    plt.figure(figsize=(8, 8))\n",
    "    plt.pie(amounts, labels=categories[:len(amounts)], autopct='%1.1f%%', startangle=140)\n",
    "    plt.title('Expense Distribution')\n",
    "    plt.show()\n",
    "    \n",
    "# Tie everything together!    \n",
    "    \n",
    "def main():\n",
    "    file_name = \"expenses.txt\"\n",
    "    expenses = read_file(file_name)\n",
    "    \n",
    "    if expenses is not None:\n",
    "        pie_chart(expenses)\n",
    "        \n",
    "if __name__ == \"__main__\":\n",
    "    main()"
   ]
  },
  {
   "cell_type": "markdown",
   "id": "924d1b61-b68c-40a4-9cfb-d2f1359cccfb",
   "metadata": {},
   "source": [
    "<h4>Explanation for the code: Line by Line</h4>\n",
    "\n",
    "<h5> 1. The matplotlib is imported into the program. </h5>\n",
    "<h5> 2. The file handler from the previous exercise is imported into the program as well. </h5>\n",
    "<h5> 3. Then, the pie chart itself is created, with numerous different factors at play. </h5>\n",
    "<h5> 4. First, if there is nothing in the text file, then the program breaks and ends. </h5>\n",
    "<h5> 5. Since there is data in the file, it will not break. </h5>\n",
    "<h5> 6. Two lists of data, <i>categories</i> and <i>amount</i>, are created to capture the data from the external text file. </h5>\n",
    "<h5> 7. The <i>amounts</i> var would be set to a two decimal floating point. The for loop ensures that only valid numbers are inputted into the program. </h5>\n",
    "<h5> 8. The plt methods in the program determine the parameters of the pie chart: The first sets the size of the chart to 8x8 inches. The second creates the actual chart. The third sets the title and the fourth displays the chart. </h5>\n",
    "<h5> 9. The main() function ties everything together by calling the file and necessary functions. </h5>\n",
    "<h5> 10. main() is then called in the last few lines of code. </h5>"
   ]
  }
 ],
 "metadata": {
  "kernelspec": {
   "display_name": "anaconda-panel-2023.05-py310",
   "language": "python",
   "name": "conda-env-anaconda-panel-2023.05-py310-py"
  },
  "language_info": {
   "codemirror_mode": {
    "name": "ipython",
    "version": 3
   },
   "file_extension": ".py",
   "mimetype": "text/x-python",
   "name": "python",
   "nbconvert_exporter": "python",
   "pygments_lexer": "ipython3",
   "version": "3.11.5"
  }
 },
 "nbformat": 4,
 "nbformat_minor": 5
}
