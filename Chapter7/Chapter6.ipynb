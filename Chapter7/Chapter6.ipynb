{
 "cells": [
  {
   "cell_type": "markdown",
   "id": "f8d1e409-0b66-416a-99f2-3078077788ea",
   "metadata": {
    "tags": []
   },
   "source": [
    "# Chapter 6: Introduction to Files\n",
    "\n",
    "This chapter covers the important parts of utilizing external files in order to make for successful Python code."
   ]
  },
  {
   "cell_type": "markdown",
   "id": "c605ee06-5b28-4a1e-8fcd-d5ed3ce7529c",
   "metadata": {},
   "source": [
    "# Algorithm Workbench 1"
   ]
  },
  {
   "cell_type": "code",
   "execution_count": 28,
   "id": "1a44f1d5-3be5-4ca0-b98c-e7c7f3ef7e9d",
   "metadata": {},
   "outputs": [],
   "source": [
    "# The objective here is to create a file that writes my name as a string to a newly created file, and then closes the file\n",
    "# The way to do this is with the open function, which opens up an external file that exists alongside the program\n",
    "\n",
    "# First, we define our name as a variable in the program, this will be important for later\n",
    "\n",
    "name = \"Your Name\"\n",
    "\n",
    "# Then, we define the file name for the output file\n",
    "\n",
    "filename = \"output.txt\"\n",
    "\n",
    "# The file is then opened in write mode. This means that data can be appended into the file properly\n",
    "\n",
    "with open(filename, \"w\") as file:\n",
    "    file.write(name)\n"
   ]
  },
  {
   "cell_type": "markdown",
   "id": "91504566-a6d1-48cc-bfa3-83ea1d61548b",
   "metadata": {},
   "source": [
    "<h3> Let's break down what the function declaration had stated in the IDE: </h3>\n",
    "\n",
    "<h5> - With is a keyword that streamlines the content being written into the file. </h5>\n",
    "<h5> - The open function opens the filename function, which creates a output.txt file because one doesn't already exist. It is then set to write mode. </h5>\n",
    "<h5> - As file tells the function that filename is not simply a standard parameter passing an argument, but a file that exists outside of the current Python syntax. </h5>\n",
    "<h5> - After the function header, the file function is called with the write method writing the name variable into the file. </h5>"
   ]
  },
  {
   "cell_type": "markdown",
   "id": "6b878774-97fe-4cef-9cb1-2536e2bf368a",
   "metadata": {},
   "source": [
    "# Algorithm Workbench 2"
   ]
  },
  {
   "cell_type": "code",
   "execution_count": 24,
   "id": "f934de87-8448-4c3d-9544-c033bd0551f5",
   "metadata": {
    "tags": []
   },
   "outputs": [
    {
     "name": "stdout",
     "output_type": "stream",
     "text": [
      "Your name is:  Your Name\n"
     ]
    }
   ],
   "source": [
    "# The objective here is to use the file in Algorithm Workbench 1 to read the file instead of writing to the file.\n",
    "# Much of the same code is going to be utilized from the first Algorithm Workbench\n",
    "\n",
    "# First, the file must be called as an input variable\n",
    "\n",
    "filename = \"output.txt\"\n",
    "\n",
    "# Next, the needs be put into read mode. \n",
    "# Luckily, the syntax is roughly the same as in the first workbench, but with some variations\n",
    "\n",
    "with open(filename, \"r\") as file:\n",
    "    name = file.read()\n",
    "    \n",
    "# The header is the same except for the r parameter that tells Python the file is read\n",
    "# We then have the function create a local variable called name that exists from the file.\n",
    "# name is a variable that existed in the first program as well, which is why we are declaring name\n",
    "\n",
    "print(\"Your name is: \", name)\n",
    "\n",
    "# This prints the result of the file read."
   ]
  },
  {
   "cell_type": "markdown",
   "id": "896a4d0c-f445-4d06-9dc0-e85b442e0283",
   "metadata": {},
   "source": [
    "# Programming Exercise 1: "
   ]
  },
  {
   "cell_type": "markdown",
   "id": "1a166758-cdb6-48d2-b237-e4f618baae6e",
   "metadata": {},
   "source": [
    "<h5> - The objective here is to print all of the numbers on a separate file onto Python</h5>\n",
    "<h5> - A separate text file called numbers.txt had to be created prior to this.</h5>"
   ]
  },
  {
   "cell_type": "code",
   "execution_count": 46,
   "id": "ef77ee68-7eb8-42e7-ad0f-8b9014ce09da",
   "metadata": {},
   "outputs": [
    {
     "name": "stdout",
     "output_type": "stream",
     "text": [
      "1\n",
      "2\n",
      "3\n",
      "5\n",
      "8\n",
      "13\n",
      "21\n",
      "34\n",
      "55\n",
      "89\n"
     ]
    }
   ],
   "source": [
    "# Call the file\n",
    "file_name = \"numbers.txt\"\n",
    "\n",
    "# Then we need the program to read the file\n",
    "\n",
    "try:\n",
    "    with open(file_name, \"r\") as file:\n",
    "        for line in file:\n",
    "            try:\n",
    "                number = int(line)\n",
    "                print(number)\n",
    "            except ValueError:\n",
    "                print(f\"Skipping non-integer line: {line}\")"
   ]
  },
  {
   "cell_type": "markdown",
   "id": "2e3afe62-afa7-4edc-82c9-1f3e6fa4abbc",
   "metadata": {},
   "source": [
    "# Let's do a line-by-line breakdown of what is happening in the function:"
   ]
  },
  {
   "cell_type": "markdown",
   "id": "092df7fd-63d7-486e-9300-94ef7a0089bd",
   "metadata": {},
   "source": [
    "<h5> 1. We open our function with the \"try\" statement.</h5> \n",
    "<h5> 2. This is because the program is asked to \"try\" a certain function, and if the conditions aren't met, to give the user an error message.</h5>\n",
    "<h5> 3. The \"with\" statement tells Python to read the file as is and to close the file when done.</h5>\n",
    "<h5> 4. While Python is reading the file, a \"for\" loop is in place to find all the available numbers in the lines.</h5>\n",
    "<h5> 5. A variable is declared in the function that assigns all integers in the document to it.</h5>\n",
    "<h5> 6. However, if there isn't a number there, the program will skip that line and move on to the next line.</h5>\n",
    "<h5> 7. Now, on the bottom, there are exceptions that kick in if the first try statement fails.</h5>\n",
    "<h5> 8. If the file isn't found, the program will tell the user the file doesn't exist.</h5>\n",
    "<h5> 9. Also, if the inputs on the file are unreadable, then the second error will kick in.</h5>"
   ]
  },
  {
   "cell_type": "markdown",
   "id": "b47f2103-95b3-411d-9d99-ae87d3c88fd5",
   "metadata": {},
   "source": [
    "# Programming Exercise 6"
   ]
  },
  {
   "cell_type": "code",
   "execution_count": 77,
   "id": "0522a0c4-cf19-40ee-9dd0-d78a97704732",
   "metadata": {},
   "outputs": [
    {
     "name": "stdout",
     "output_type": "stream",
     "text": [
      "The average of the numbers in numbers.txt is 23.1\n"
     ]
    }
   ],
   "source": [
    "# The objective here is to pull an average of the numbers available in numbers.txt\n",
    "\n",
    "# Call the file.\n",
    "\n",
    "file_name = \"numbers.txt\"\n",
    "\n",
    "# Define any global constants\n",
    "\n",
    "total = 0\n",
    "count = 0\n",
    "\n",
    "# Read the file, and pull the average of the numbers inside the file.\n",
    "\n",
    "try:\n",
    "    with open(file_name, \"r\") as file:\n",
    "        for line in file:\n",
    "                average = int(line)\n",
    "                total += average\n",
    "                count += 1\n",
    "    if count > 0:\n",
    "        result = total / count\n",
    "        print(f\"The average of the numbers in {file_name} is {result}\")\n",
    "except FileNotFoundError:\n",
    "    print(f\"File not found: {file_name}\")"
   ]
  },
  {
   "cell_type": "markdown",
   "id": "3d279f39-50bd-46fd-8db9-5b7c0e849c41",
   "metadata": {},
   "source": [
    "# Let's create a detailed explaination for the function:"
   ]
  },
  {
   "cell_type": "markdown",
   "id": "c245559a-4802-45d6-a2a0-04c47e4a83cb",
   "metadata": {},
   "source": [
    "<h5> 1. First, we create the try/except error handling. </h5>\n",
    "<h5> 2. Then, we open the file as a read-only. </h5>\n",
    "<h5> 3. The actual function is written in the succeeding line, telling Python to create a for loop. </h5>\n",
    "<h5> 4. For every line in the file that's a number, add the average var to the total var. </h5>\n",
    "<h5> 5. For every line that has been processed, add a one to the count var. </h5>\n",
    "<h5> 6. If the count is above zero, calculate the result by dividing the total by the count. </h5>\n",
    "<h5> 7. Or... if there's no numbers, tell the user there's no numbers in the file. </h5>"
   ]
  },
  {
   "cell_type": "markdown",
   "id": "d13dbff0-6b46-4b86-8dd1-dbbea3e94745",
   "metadata": {},
   "source": [
    "# Programming Exercise 9"
   ]
  },
  {
   "cell_type": "code",
   "execution_count": null,
   "id": "ee95e671-67fc-4016-8a03-3a79454cf164",
   "metadata": {},
   "outputs": [],
   "source": [
    "# The objective here is to create a better error handling to our previous program in Exercise 6.\n",
    "\n",
    "# Call the file.\n",
    "\n",
    "file_name = \"numbers.txt\"\n",
    "\n",
    "# Define any global constants\n",
    "\n",
    "total = 0\n",
    "count = 0\n",
    "\n",
    "# Read the file, and pull the average of the numbers inside the file.\n",
    "\n",
    "try:\n",
    "    with open(file_name, \"r\") as file:\n",
    "        for line in file:\n",
    "            try:\n",
    "                average = int(line)\n",
    "                total += average\n",
    "                count += 1\n",
    "            except ValueError:\n",
    "                print(f\"Skipping non-integer line: {line}\")\n",
    "    if count > 0:\n",
    "        result = total / count\n",
    "        print(f\"The average of the numbers in {file_name} is {result}\")\n",
    "    else:\n",
    "        print(\"No valid numbers in the file\")\n",
    "except FileNotFoundError:\n",
    "    print(f\"File '{file_name}' not found.\")\n",
    "except IOError as e:\n",
    "    print(f\"An error occurred while trying to read the file: {str(e)}\")\n",
    "            "
   ]
  },
  {
   "cell_type": "markdown",
   "id": "5879ff5b-daec-4eb2-bc27-c6055e3f0956",
   "metadata": {},
   "source": [
    "# Some Notes to Consider:"
   ]
  },
  {
   "cell_type": "markdown",
   "id": "e32124a3-7e11-466d-9ad3-d279350cab8f",
   "metadata": {},
   "source": [
    "<h5> 1. A second try/except statement was added around the \"for\" loop to ensure any non-integer numbers are filtered out.</h5>\n",
    "<h5> 2. An additional else statement was added to the bottom of the if statement to error check for numbers.</h5>\n",
    "<h5> 3. An IOError was added to the bottom of the document. This allows for Python to tell the user if there is a problem with opening and closing the file.</h5>"
   ]
  },
  {
   "cell_type": "markdown",
   "id": "423858a6-74d1-4ed4-a10b-ef38e9d8c2c1",
   "metadata": {},
   "source": [
    "# Programming Exercise 11: "
   ]
  },
  {
   "cell_type": "code",
   "execution_count": 97,
   "id": "728932d4-c56f-4118-9c28-9634f39affb4",
   "metadata": {},
   "outputs": [
    {
     "name": "stdin",
     "output_type": "stream",
     "text": [
      "Enter your name here: Ben\n",
      "Enter your information here! Information\n"
     ]
    },
    {
     "name": "stdout",
     "output_type": "stream",
     "text": [
      "HTML File websitemaker.md has been created successfully\n"
     ]
    }
   ],
   "source": [
    "# A website generator\n",
    "\n",
    "# First, create some of the global constants that are going to be used in the project.\n",
    "\n",
    "user_input = str(input(\"Enter your name here:\"))\n",
    "user_information = str(input(\"Enter your information here!\"))\n",
    "\n",
    "# Generate the website that Python will input the data into:\n",
    "\n",
    "html_content = f'''\n",
    "<!DOCTYPE html>\n",
    "<html>\n",
    "<head>\n",
    "    <title>This is the generated website!</title>\n",
    "</head>\n",
    "<body>\n",
    "    <header>{user_input}'s Profile</header>\n",
    "    <p>{user_information}</p>\n",
    "</body>\n",
    "</html>\n",
    "'''\n",
    "                       \n",
    "# Then, we are going to call the HTML file we just made\n",
    "file_name = \"websitemaker.md\"\n",
    "                       \n",
    "try:\n",
    "    with open(file_name, \"w\") as file:\n",
    "        file.write(html_content)\n",
    "    print(f\"HTML File {file_name} has been created successfully\")\n",
    "except IOError as e:\n",
    "    print(f\"An error occurred while creating the HTML file: {str(e)}\")                  \n",
    "    "
   ]
  },
  {
   "cell_type": "code",
   "execution_count": null,
   "id": "408fb9da-9448-4c50-ad65-80040600b48e",
   "metadata": {},
   "outputs": [],
   "source": []
  }
 ],
 "metadata": {
  "kernelspec": {
   "display_name": "anaconda-panel-2023.05-py310",
   "language": "python",
   "name": "conda-env-anaconda-panel-2023.05-py310-py"
  },
  "language_info": {
   "codemirror_mode": {
    "name": "ipython",
    "version": 3
   },
   "file_extension": ".py",
   "mimetype": "text/x-python",
   "name": "python",
   "nbconvert_exporter": "python",
   "pygments_lexer": "ipython3",
   "version": "3.11.5"
  }
 },
 "nbformat": 4,
 "nbformat_minor": 5
}
