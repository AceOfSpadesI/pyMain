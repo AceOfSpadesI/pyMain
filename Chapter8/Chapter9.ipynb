{
 "cells": [
  {
   "cell_type": "code",
   "execution_count": 21,
   "id": "414595f5-2bb9-4500-b7fb-23b112febe5f",
   "metadata": {},
   "outputs": [
    {
     "name": "stdin",
     "output_type": "stream",
     "text": [
      "Put in a room number to find the information about it!:  CS101\n"
     ]
    },
    {
     "name": "stdout",
     "output_type": "stream",
     "text": [
      "Room Number: {'CS101': '3004', 'CS102': '4501', 'CS103': '6755', 'NT110': '1244', 'CM241': '1411'}\n",
      "Instructor: {'CS101': 'Haynes', 'CS102': 'Alvarado', 'CS103': 'Rich', 'NT110': 'Burke', 'CM241': 'Lee'}\n",
      "Meeting Time: {'CS101': '3004', '8:00 AM': '9:00 AM', 'CS103': '10:00 AM', 'NT110': '11:00 AM', 'CM241': '1:00 PM'}\n",
      "None\n"
     ]
    }
   ],
   "source": [
    "user_input = input(\"Put in a room number to find the information about it!: \")\n",
    "\n",
    "roomNum = {\"CS101\": \"3004\", \"CS102\": \"4501\", \"CS103\": \"6755\", \"NT110\": \"1244\", \"CM241\": \"1411\"}\n",
    "teacherName = {\"CS101\": \"Haynes\", \"CS102\": \"Alvarado\", \"CS103\": \"Rich\", \"NT110\": \"Burke\", \"CM241\": \"Lee\"}\n",
    "classTime = {\"CS101\": \"3004\", \"8:00 AM\": \"9:00 AM\", \"CS103\": \"10:00 AM\", \"NT110\": \"11:00 AM\", \"CM241\": \"1:00 PM\"}\n",
    "\n",
    "def main():\n",
    "    if user_input in roomNum:\n",
    "        room_number = roomNum[user_input]\n",
    "        instructor = teacherName[user_input]\n",
    "        meeting_time = classTime[user_input]\n",
    "\n",
    "        print(f\"Room Number: {roomNum}\")\n",
    "        print(f\"Instructor: {teacherName}\")\n",
    "        print(f\"Meeting Time: {classTime}\")\n",
    "    else:\n",
    "        print(\"Course number not found.\")\n",
    "        \n",
    "result = main()\n",
    "print(result)"
   ]
  },
  {
   "cell_type": "code",
   "execution_count": null,
   "id": "19fb2561-4bcb-46d5-8048-a4e2553736af",
   "metadata": {},
   "outputs": [],
   "source": []
  }
 ],
 "metadata": {
  "kernelspec": {
   "display_name": "anaconda-panel-2023.05-py310",
   "language": "python",
   "name": "conda-env-anaconda-panel-2023.05-py310-py"
  },
  "language_info": {
   "codemirror_mode": {
    "name": "ipython",
    "version": 3
   },
   "file_extension": ".py",
   "mimetype": "text/x-python",
   "name": "python",
   "nbconvert_exporter": "python",
   "pygments_lexer": "ipython3",
   "version": "3.11.5"
  }
 },
 "nbformat": 4,
 "nbformat_minor": 5
}
