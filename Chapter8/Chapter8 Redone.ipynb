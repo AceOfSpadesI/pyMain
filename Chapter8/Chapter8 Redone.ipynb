{
 "cells": [
  {
   "cell_type": "markdown",
   "id": "2105b05f-2cdf-485c-b5cb-771ad097d31d",
   "metadata": {},
   "source": [
    "# Chapter 8: More with Strings"
   ]
  },
  {
   "cell_type": "markdown",
   "id": "6be107d9-2690-4702-94f1-355c017cddbe",
   "metadata": {},
   "source": [
    "<h4>This chapter focuses on the extra things you can do with strings, such as taking individual characters out of the string and using them elsewhere, concatinating strings to form new strings, and utilizing slices to have the Python interpreter read only certain portions of the string.</h4>"
   ]
  },
  {
   "cell_type": "markdown",
   "id": "0ad6b92f-42da-4d3c-afb1-cedbf8d96aa8",
   "metadata": {},
   "source": [
    "# Algorithm Problem # 1"
   ]
  },
  {
   "cell_type": "code",
   "execution_count": 4,
   "id": "b69202f4-06d1-4740-9f7f-204220b53368",
   "metadata": {},
   "outputs": [
    {
     "name": "stdin",
     "output_type": "stream",
     "text": [
      "Answer y/n y\n"
     ]
    },
    {
     "name": "stdout",
     "output_type": "stream",
     "text": [
      "You made a good choice!\n"
     ]
    }
   ],
   "source": [
    "# Assume \"choice\" references a string. The following if statement determines whether \"choice\" is equal to ‘Y’ or ‘y’:\n",
    "\n",
    "# The objective is to rewrite the statement in the book without using an \"or\" operator.\n",
    "\n",
    "choice = str(input(\"Answer y/n\"))\n",
    "\n",
    "def main():\n",
    "    better_choice = choice.lower()\n",
    "\n",
    "    if better_choice == \"y\":\n",
    "        print(\"You made a good choice!\")\n",
    "    elif better_choice == \"n\":\n",
    "        print(\"You made a bad choice!\")\n",
    "    else:\n",
    "        print(\"You didn't choose anything!\")\n",
    "\n",
    "# Call the main function\n",
    "if __name__ == \"__main__\":\n",
    "        main()"
   ]
  },
  {
   "cell_type": "markdown",
   "id": "0055e674-8396-4b60-8167-3b79acc4b9c5",
   "metadata": {},
   "source": [
    "<h5> 1. A <i>choice</i> variable is declared which collects the data received from the input function.</h5>\n",
    "<h5> 2. Another variable is declared which is the result of the previous variable with the .lower() function applied.</h5>\n",
    "<h5> 3. A simple decision structure is made to determine the correct answer the user should receive.</h5>"
   ]
  },
  {
   "cell_type": "markdown",
   "id": "4e22ad0d-749a-4fc7-838a-5a6b1057a137",
   "metadata": {},
   "source": [
    "# Algorithm Problem # 5"
   ]
  },
  {
   "cell_type": "code",
   "execution_count": 24,
   "id": "ab37a4bd-4ab4-43b0-92b7-4bfbe0f19594",
   "metadata": {},
   "outputs": [
    {
     "name": "stdin",
     "output_type": "stream",
     "text": [
      "Enter a website name here!:  Wikipedia\n"
     ]
    },
    {
     "name": "stdout",
     "output_type": "stream",
     "text": [
      "False\n"
     ]
    }
   ],
   "source": [
    "# The objective here is to create a boolean depending on whether or not the string has \".com\"\n",
    "\n",
    "myInput = str(input(\"Enter a website name here!: \"))\n",
    "\n",
    "def main(myString):\n",
    "    return print(myString.lower().endswith(\".com\"))\n",
    "    \n",
    "result = main(myInput)"
   ]
  },
  {
   "cell_type": "markdown",
   "id": "7b5282c0-3756-44a8-b7bd-4698d0633fe7",
   "metadata": {},
   "source": [
    "<h5> 1. A function is declared with myString as the argument.</h5>\n",
    "<h5> 2. The function returns the result of the string that has the .lower() function and the .endswith() function.</h5>\n",
    "<h5> 3. <i>myInput</i> is the variable collecting the user input.</h5>\n",
    "<h5> 4. The <i>result</i> variable calls the .myFunction(myInput) to run the program.</h5>"
   ]
  },
  {
   "cell_type": "markdown",
   "id": "4f9ac92f-8a10-4ce5-9873-8ee7034a4e64",
   "metadata": {},
   "source": [
    "# Programming Exercise # 1"
   ]
  },
  {
   "cell_type": "code",
   "execution_count": 32,
   "id": "c2aea2af-5ca6-482e-84ae-a1c11dfa819f",
   "metadata": {},
   "outputs": [
    {
     "name": "stdin",
     "output_type": "stream",
     "text": [
      "Enter a person's first, middle, and last names:  John Quincy Adams\n"
     ]
    },
    {
     "name": "stdout",
     "output_type": "stream",
     "text": [
      "The initials are: J.Q.A\n"
     ]
    }
   ],
   "source": [
    "# Get user input\n",
    "full_name = input(\"Enter a person's first, middle, and last names: \")\n",
    "\n",
    "def display_initials(full_name):\n",
    "    # Split the full name into a list of names\n",
    "    names = full_name.split()\n",
    "\n",
    "    # Extract the first letter of each name and capitalize it\n",
    "    initials = [name[0].upper() for name in names]\n",
    "\n",
    "    # Join the initials to form the result string\n",
    "    result = '.'.join(initials)\n",
    "\n",
    "    return result\n",
    "\n",
    "# Call the function and display the result\n",
    "def main():\n",
    "    initials_result = display_initials(full_name)\n",
    "    print(f\"The initials are: {initials_result}\")\n",
    "    \n",
    "# Call the main function\n",
    "if __name__ == \"__main__\":\n",
    "        main()                    "
   ]
  },
  {
   "cell_type": "markdown",
   "id": "87571866-2fab-4273-b497-6190d419b439",
   "metadata": {},
   "source": [
    "<h5> 1. <i>full_name</i> is declared as a variable to collect the user input. </h5>\n",
    "<h5> 2. A function, display_initials(), is declared with full_name as the argument. </h5>\n",
    "<h5> 3. The <i>names</i> variable is set to the full_name variable having the split function applied. </h5>\n",
    "<h5> 4. <i>initials</i> is a bit more complex. This variable takes the zeroth index of each element that the list made in point 3 and capitalizes the result. This is then put to a for loop, which applies the same capitalizes<i> function to every element. </h5>\n",
    "<h5> 5. A new string <i>result</i> is made with the join function, with <i>initals</i> as the argument. </h5>\n",
    "<h5> 6 .Results are then returned, which ends the loop. Then the function is called and printed to the console. </h5>"
   ]
  },
  {
   "cell_type": "markdown",
   "id": "9b2ffa68-02d7-4df3-bdca-326df85f821c",
   "metadata": {},
   "source": [
    "# Programming Exercise # 3"
   ]
  },
  {
   "cell_type": "code",
   "execution_count": 34,
   "id": "fd4e0323-2a5f-4b38-ab83-850a8e70a9e2",
   "metadata": {},
   "outputs": [
    {
     "name": "stdin",
     "output_type": "stream",
     "text": [
      "Enter a date (mm/dd/yyyy):  12/21/2012\n"
     ]
    },
    {
     "name": "stdout",
     "output_type": "stream",
     "text": [
      "December 21, 2012\n"
     ]
    }
   ],
   "source": [
    "# The objective here is to convert a date from one format to another format\n",
    "\n",
    "# We must import the right modules in order for ths to work. \n",
    "\n",
    "from datetime import datetime\n",
    "\n",
    "# Get user input\n",
    "user_date = input(\"Enter a date (mm/dd/yyyy): \")\n",
    "\n",
    "def format_date(user_input):\n",
    "    try:\n",
    "        # Parse the input string as a date\n",
    "        date_object = datetime.strptime(user_input, \"%m/%d/%Y\")\n",
    "\n",
    "        # Format the date in the desired output format\n",
    "        formatted_date = date_object.strftime(\"%B %d, %Y\")\n",
    "\n",
    "        return formatted_date\n",
    "    except ValueError:\n",
    "        return \"Invalid date format. Please enter a valid date (mm/dd/yyyy).\"\n",
    "\n",
    "# Call the function and display the result\n",
    "def main():\n",
    "    formatted_result = format_date(user_date)\n",
    "    print(formatted_result)\n",
    "    \n",
    "# Call the main function\n",
    "if __name__ == \"__main__\":\n",
    "        main()"
   ]
  },
  {
   "cell_type": "markdown",
   "id": "f233352c-04b2-4159-84c6-7244a0c252e4",
   "metadata": {},
   "source": [
    "<h5> 1. The datetime module is imported and imports the datetime object into our code. </h5>\n",
    "<h5> 2. A function is declared with <i>user_input</i> as the argument being passed. </h5>\n",
    "<h5> 3. A new variable is created that is set to the datetime object's method that converts the string over to date time. This is so that the string is converted into a numeric value that the datetime function can work with. The arguments being passed in the function are first, the user_input argument itself, and second, the actual format that works with the program. </h5>\n",
    "<h5> 4. <i>formatted_date</i> is created to format the date to properly return what we want. </h5>\n",
    "<h5> 5. A try-except statement surrounds the meat of the function to catch any errors that may occur from the user input. </h5>\n",
    "<h5> 6. The user input is then collected for the program to utilize. </h5>\n",
    "<h5> 7. The function is then called and printed. </h5>"
   ]
  },
  {
   "cell_type": "markdown",
   "id": "fdd55af7-7d56-4ed5-9deb-bb88efd9f1ed",
   "metadata": {},
   "source": [
    "# Programming Exercise # 8"
   ]
  },
  {
   "cell_type": "code",
   "execution_count": 43,
   "id": "af10ad9b-6635-4e5b-b5c0-2a29df7cfc51",
   "metadata": {},
   "outputs": [
    {
     "name": "stdin",
     "output_type": "stream",
     "text": [
      "Enter a string with sentences:  joe loves christmas. he especially loves bob's presents for him.\n"
     ]
    },
    {
     "name": "stdout",
     "output_type": "stream",
     "text": [
      "Modified string:\n",
      "Joe loves christmas. He especially loves bob's presents for him.\n"
     ]
    }
   ],
   "source": [
    "# The objective here is to create a algorithm that capitalizes the words in every sentence.\n",
    "\n",
    "# Get user input\n",
    "user_input = input(\"Enter a string with sentences: \")\n",
    "\n",
    "def cap_first_char(sentence):\n",
    "    # Split the sentence into a list of sentences\n",
    "    sentences = sentence.split('. ')\n",
    "\n",
    "    # Capitalize the first character of each sentence\n",
    "    capitalized_sentences = [s.capitalize() for s in sentences]\n",
    "\n",
    "    # Join the sentences to form the result string\n",
    "    result = '. '.join(capitalized_sentences)\n",
    "\n",
    "    return result\n",
    "\n",
    "# Call the function and display the result\n",
    "def main():\n",
    "    modified_string = cap_first_char(user_input)\n",
    "    print(f\"Modified string:\\n{modified_string}\")\n",
    "    \n",
    "# Call the main function\n",
    "if __name__ == \"__main__\":\n",
    "        main()"
   ]
  },
  {
   "cell_type": "markdown",
   "id": "acb55e9e-c919-4310-bae6-7ffd8b80ba92",
   "metadata": {},
   "source": [
    "<h5> 1. User input is collected. </h5>\n",
    "<h5> 2. A function (cap_first_char(sentence)), is declared with the <i>sentence</i> argument being passed. </h5>\n",
    "<h5> 3. <i>sentences</i> would be declared as a variable that splits the sentence variable into a list. The argument in the brackets (\". \"), tells the complier that the period is the end of the split. </h5>\n",
    "<h5> 4. <i>capitalized_sentences</i> is created to make a list that capitalizes each element in the list. A for loop is created to repeat this for every single beginning of a sentence. </h5>\n",
    "<h5> 5. After the capitalized sentences are made, the <i>result</i> variable joins the strings into a new string. </h5>\n",
    "<h5> 6. The result is returned, ending the function. </h5>\n",
    "<h5> 7. The function is called and the result is printed out. </h5>"
   ]
  },
  {
   "cell_type": "markdown",
   "id": "69e5d04c-5ee8-4838-bc53-45c01ecfb6fe",
   "metadata": {},
   "source": [
    "# Programming Exercise # 11"
   ]
  },
  {
   "cell_type": "code",
   "execution_count": 37,
   "id": "447e71b7-547b-4e6b-bd40-17a16541c16b",
   "metadata": {},
   "outputs": [
    {
     "name": "stdin",
     "output_type": "stream",
     "text": [
      "Enter in a mashed together sentence and watch Python split them up!:  TheMelonAteTheCarrot\n"
     ]
    },
    {
     "name": "stdout",
     "output_type": "stream",
     "text": [
      "The sentence becomes: The Melon Ate The Carrot\n"
     ]
    }
   ],
   "source": [
    "# The objective here is to separate the words in a given sentence\n",
    "\n",
    "# First, we create the necessary function needed to process the sentence\n",
    "\n",
    "user_input = str(input(\"Enter in a mashed together sentence and watch Python split them up!: \"))\n",
    "\n",
    "def separatorFunction(sentence):\n",
    "    corrected_sentence = ''\n",
    "    \n",
    "    for i in range(len(sentence)):\n",
    "        if sentence[i].isupper() and i > 0:\n",
    "            corrected_sentence += ' '\n",
    "            \n",
    "        corrected_sentence += sentence[i]\n",
    "        \n",
    "    return corrected_sentence\n",
    "\n",
    "# Create the main function that ties the code together. \n",
    "def main():\n",
    "    split_result = separatorFunction(user_input)\n",
    "    print(f\"The sentence becomes: {split_result}\")\n",
    "    \n",
    "# Call the main function\n",
    "if __name__ == \"__main__\":\n",
    "        main()"
   ]
  },
  {
   "cell_type": "markdown",
   "id": "fbaf4a74-7ed1-45c4-a9cb-47d5a64aac26",
   "metadata": {},
   "source": [
    "<h5> 1. The user_input is collected. </h5>\n",
    "<h5> 2. The function (separatorFunction(sentence)), is created with the sentence argument. </h5>\n",
    "<h5> 3. A variable, <i>corrected_sentence</i>, makes an empty string with no data being passed through. </h5>\n",
    "<h5> 4. A for loop is set for the range of the length of the sentence. </h5>\n",
    "<h5> 5. The if statement processes through the i list that ensures if the word is capitalized and ensures that i is not equal to zero. </h5>\n",
    "<h5> 6. As long as the if statement is true, then the new sentence is put into the old empty string. </h5>\n",
    "<h5> 7. The result is returned. The function is called, and the results are printed to console. </h5>"
   ]
  }
 ],
 "metadata": {
  "kernelspec": {
   "display_name": "anaconda-panel-2023.05-py310",
   "language": "python",
   "name": "conda-env-anaconda-panel-2023.05-py310-py"
  },
  "language_info": {
   "codemirror_mode": {
    "name": "ipython",
    "version": 3
   },
   "file_extension": ".py",
   "mimetype": "text/x-python",
   "name": "python",
   "nbconvert_exporter": "python",
   "pygments_lexer": "ipython3",
   "version": "3.11.5"
  }
 },
 "nbformat": 4,
 "nbformat_minor": 5
}
