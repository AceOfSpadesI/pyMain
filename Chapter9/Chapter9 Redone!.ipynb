{
 "cells": [
  {
   "cell_type": "code",
   "execution_count": 13,
   "id": "414595f5-2bb9-4500-b7fb-23b112febe5f",
   "metadata": {},
   "outputs": [
    {
     "name": "stdin",
     "output_type": "stream",
     "text": [
      "Put in a room number to find the information about it!:  CS102\n"
     ]
    },
    {
     "name": "stdout",
     "output_type": "stream",
     "text": [
      "Room Number: 4501\n",
      "Instructor: Alvarado\n",
      "Meeting Time: 9:00 AM\n",
      "None\n"
     ]
    }
   ],
   "source": [
    "# Write a program that creates a dictionary containing course numbers and the room numbers of the rooms where the courses meet. \n",
    "\n",
    "# We write in a user_input variable to collect the information needed from the user:\n",
    "\n",
    "user_input = input(\"Put in a room number to find the information about it!: \")\n",
    "\n",
    "# Then, we define our dictionaries, the assignment called for 3 dictionaries so I created three dictionaries.\n",
    "\n",
    "\n",
    "roomNum = {\"CS101\": \"3004\", \"CS102\": \"4501\", \"CS103\": \"6755\", \"NT110\": \"1244\", \"CM241\": \"1411\"} #roomNum is the Room Number\n",
    "teacherName = {\"CS101\": \"Haynes\", \"CS102\": \"Alvarado\", \"CS103\": \"Rich\", \"NT110\": \"Burke\", \"CM241\": \"Lee\"} #teacherName is the Teacher's Name\n",
    "classTime = {\"CS101\": \"8:00 AM\", \"CS102\": \"9:00 AM\", \"CS103\": \"10:00 AM\", \"NT110\": \"11:00 AM\", \"CM241\": \"1:00 PM\"} #classTime is the time the class takes place at.  \n",
    "\n",
    "\n",
    "# Now the meat of the assignment, a function that calls upon the data from the dictionary. \n",
    "def main():\n",
    "    if user_input in roomNum: # An if-statement was put into place to selectively take data out of the dictionaries\n",
    "        room_number = roomNum[user_input] # So we declare a variable for the slice of data we want to take out of the dictionary. \n",
    "        instructor = teacherName[user_input]\n",
    "        meeting_time = classTime[user_input]\n",
    "\n",
    "        print(f\"Room Number: {room_number}\") # Then, from all the dictionaries, the data is displayed on the console!\n",
    "        print(f\"Instructor: {instructor}\")\n",
    "        print(f\"Meeting Time: {meeting_time}\")\n",
    "    else:\n",
    "        print(\"Course number not found.\")\n",
    "        \n",
    "result = main() # We then call the main function to run our code! \n",
    "print(result) # Thank you for watching! "
   ]
  },
  {
   "cell_type": "code",
   "execution_count": null,
   "id": "19fb2561-4bcb-46d5-8048-a4e2553736af",
   "metadata": {},
   "outputs": [],
   "source": []
  }
 ],
 "metadata": {
  "kernelspec": {
   "display_name": "anaconda-panel-2023.05-py310",
   "language": "python",
   "name": "conda-env-anaconda-panel-2023.05-py310-py"
  },
  "language_info": {
   "codemirror_mode": {
    "name": "ipython",
    "version": 3
   },
   "file_extension": ".py",
   "mimetype": "text/x-python",
   "name": "python",
   "nbconvert_exporter": "python",
   "pygments_lexer": "ipython3",
   "version": "3.11.5"
  }
 },
 "nbformat": 4,
 "nbformat_minor": 5
}
