{
 "cells": [
  {
   "cell_type": "markdown",
   "id": "a5cacc1c-ca02-4874-9da6-86b2f43caf39",
   "metadata": {},
   "source": [
    "# Chapter 4: Repetition Statements"
   ]
  },
  {
   "cell_type": "markdown",
   "id": "8534265b-31fe-49a8-92b8-c8878dd1c378",
   "metadata": {},
   "source": [
    "<h4> Repetition Statements are statements that repeat a certain condition until the result returns True. </h4>"
   ]
  },
  {
   "cell_type": "markdown",
   "id": "2b282f80-9ae9-4d9a-bb01-49dffc827ab4",
   "metadata": {},
   "source": [
    "<h3> Algorithm Problem #1 </h3>"
   ]
  },
  {
   "cell_type": "code",
   "execution_count": 1,
   "id": "e26109e9-2b33-467e-8ae9-b178e1f24491",
   "metadata": {},
   "outputs": [
    {
     "name": "stdin",
     "output_type": "stream",
     "text": [
      "Number you want multiplied here:  12\n"
     ]
    },
    {
     "name": "stdout",
     "output_type": "stream",
     "text": [
      "120\n"
     ]
    }
   ],
   "source": [
    "#Algorithm Workbench, Question 1\n",
    "\n",
    "\n",
    "#Product, as defined in the problem, has to be set to zero in order for the loop to work.\n",
    "product = 0\n",
    "#Create the user input.\n",
    "user_input = int(input(\"Number you want multiplied here: \"))\n",
    "#While loop executes the function until the number hits 100\n",
    "while product < 100:\n",
    "    product = user_input * 10\n",
    "#Print result\n",
    "print(product)"
   ]
  },
  {
   "cell_type": "markdown",
   "id": "7915005f-4510-4f26-ba08-8a5e317a9951",
   "metadata": {},
   "source": [
    "<h4> All the way up to 100! </h4>\n",
    "<h5> 1. The global variable, <i>product</i>, is defined as 0 </h5>\n",
    "<h5> 2. User is asked for input. </h5>\n",
    "<h5> 3. A while-loop multiplies the user input so that it eventually reaches the number 100. </h5>\n",
    "<h5> 4. The result is then printed to console. </h5>"
   ]
  },
  {
   "cell_type": "markdown",
   "id": "f3cace8f-9f7a-499d-8afb-c6b2b8e2b405",
   "metadata": {},
   "source": [
    "<h3> Algorithm Problem #2 </h3>"
   ]
  },
  {
   "cell_type": "code",
   "execution_count": 5,
   "id": "1b6f8d7e-4afc-484e-877d-e22f3b81afb3",
   "metadata": {},
   "outputs": [
    {
     "name": "stdin",
     "output_type": "stream",
     "text": [
      "Enter the First Number:  13\n",
      "Enter the Second Number:  53\n"
     ]
    },
    {
     "name": "stdout",
     "output_type": "stream",
     "text": [
      "The sum of 13 and 53 is 66\n"
     ]
    },
    {
     "name": "stdin",
     "output_type": "stream",
     "text": [
      "Do you want to perform the operation again? (yes/no) yes\n",
      "Enter the First Number:  14\n",
      "Enter the Second Number:  21\n"
     ]
    },
    {
     "name": "stdout",
     "output_type": "stream",
     "text": [
      "The sum of 14 and 21 is 35\n"
     ]
    },
    {
     "name": "stdin",
     "output_type": "stream",
     "text": [
      "Do you want to perform the operation again? (yes/no) Yes\n"
     ]
    }
   ],
   "source": [
    "# Algorithm Workbench Problem 2\n",
    "\n",
    "#I had ChatGPT help me out with this one. While loops were a bit of a challenge for me to understand at first but I get them now\n",
    "while True:\n",
    "    num1 = int(input(\"Enter the First Number: \"))\n",
    "    num2 = int(input(\"Enter the Second Number: \"))\n",
    "    # Calculate and display the value\n",
    "    sum_result = num1 + num2\n",
    "    print(f\"The sum of {num1} and {num2} is {sum_result}\")\n",
    "    # Ask if the user if they want to repeat the operation\n",
    "    repeat = input(\"Do you want to perform the operation again? (yes/no)\").lower()\n",
    "    # If the answer is anything but yes, break the function\n",
    "    if repeat != \"yes\":\n",
    "        break"
   ]
  },
  {
   "cell_type": "markdown",
   "id": "dba30d43-caea-40cf-b51b-7ab1aadada58",
   "metadata": {},
   "source": [
    "<h4> Basic Addition </h4>\n",
    "<h5> 1. A while loop is made to iterate through the calculator. This ensures the calculator is not a one time ordeal. </h5>\n",
    "<h5> 2. Two numbers are prompted for by the calculator. </h5>\n",
    "<h5> 3. <i>sum_result</i> is set to the addition of the two inputted numbers. </h5>\n",
    "<h5> 4. The user is then asked if they want to continue adding the numbers. If yes, then the loop breaks and the program ends.</h5>"
   ]
  },
  {
   "cell_type": "markdown",
   "id": "7ffb323b-60ef-4666-ad69-50c6ecd8ec31",
   "metadata": {},
   "source": [
    "<h3> Programming Exercise #1 </h3>"
   ]
  },
  {
   "cell_type": "code",
   "execution_count": null,
   "id": "5cf5bbff-20ce-49a4-b89c-a47f76bf06d6",
   "metadata": {},
   "outputs": [],
   "source": [
    "# Programming Exercise 1, Bug Collector\n",
    "\n",
    "bugs = 0 # The variable bugs has to be set to zero\n",
    "\n",
    "for day in range(1, 6): # For every day within the 1 to 6 range (Python uses a zero index, so all are off by one, making it 0 through 5), add the bugs collected\n",
    "    collected_bugs = int(input(\"How many bugs did you collect today?\"))\n",
    "    bugs += collected_bugs # Once the variables are set, the += operator adds all the variables up.\n",
    "\n",
    "print(f\"{bugs} bugs have been collected over five days\") # Print the result"
   ]
  },
  {
   "cell_type": "markdown",
   "id": "322a0060-8df9-4eae-9a19-9ae975c36b9d",
   "metadata": {},
   "source": [
    "<h4> Satoshi Tajiri's Bug Collection (Fun Fact: The inspiration for the Pokemon games was when he was collecting bugs as a child!) </h4>\n",
    "<h5> 1. A <i>bugs</i> variable is declared and set to zero. This variable will be added on to as the program progresses. </h5>\n",
    "<h5> 2. For every day between 1 and 6, the bugs collected are accounted for. <i>day</i> in this particular instance is the iterable that goes over the loop as it is accounting for each day's bugs. </h5>\n",
    "<h5> 3. A new variable, <i>collected_bugs</i>, is the user input. </h5>\n",
    "<h5> 4. From <i>collected_bugs</i>, the results collected are added to the <i>bugs</i> variable. This process is repeated 5 times until the for-loop is satisfied. </h5>\n",
    "<h5> 5. The results are then printed to console. </h5>"
   ]
  },
  {
   "cell_type": "markdown",
   "id": "e1e38c8c-ab03-4c7d-83f1-2fe90340c687",
   "metadata": {},
   "source": [
    "<h3> Programming Exercise # 4 </h3>"
   ]
  },
  {
   "cell_type": "code",
   "execution_count": null,
   "id": "51647b5c-28a7-4ca6-a1ad-055a65048fa8",
   "metadata": {},
   "outputs": [],
   "source": [
    "# Get the speed (miles per hour) and the number of hours from the user\n",
    "speed = float(input(\"Enter the speed of the vehicle (miles per hour): \"))\n",
    "hours = int(input(\"Enter the number of hours the vehicle has traveled: \"))\n",
    "\n",
    "# Display a header for the output\n",
    "print(\"Hour\\tDistance Traveled\")\n",
    "\n",
    "# Initialize a variable to keep track of the total distance\n",
    "total_distance = 0\n",
    "\n",
    "# Use a loop to calculate and display the distance for each hour\n",
    "for hour in range(1, hours + 1):\n",
    "    distance = speed * hour  # Calculate the distance for the current hour\n",
    "    total_distance += distance  # Update the total distance\n",
    "    print(f\"{hour}\\t{distance:.2f} miles\")\n",
    "\n",
    "# Display the total distance traveled\n",
    "print(f\"Total distance traveled: {total_distance:.2f} miles\")"
   ]
  },
  {
   "cell_type": "markdown",
   "id": "f377571d-00c3-46f2-a426-069f6613fbe4",
   "metadata": {},
   "source": [
    "<h4> Speed Test! </h4>\n",
    "<h5> 1. The user is asked for an integer input, the number of hours, and a float, which is the speed in mph the car is driving. </h5>\n",
    "<h5> 2. A header is made for our results to be categorized. </h5>\n",
    "<h5> 3. Another global variable, <i>total_distance</i>, is set to zero. This will be the total distance driven within a given time. </h5>\n",
    "<h5> 4. The for loop goes through each hour in the iteration, starting at 1 and adding 1 for every mile travelled. <i>distance</i> is set to multiplying <i>speed</i> and <i>hour</i> variables. The <i>total_distance</i> variable is updated for every mention of the <i>distance</i> variable. Then the result is printed for every iteration of the loop until it is completed. </h5>\n",
    "<h5> 5. The final results are then printed to console. </h5>"
   ]
  },
  {
   "cell_type": "markdown",
   "id": "9f07ffca-2f92-4a4d-9e4b-2cdf0b7547a9",
   "metadata": {},
   "source": [
    "<h3> Programming Exercise # 11 </h3>"
   ]
  },
  {
   "cell_type": "code",
   "execution_count": 9,
   "id": "1630ffdf-ca48-4a0a-84ff-862c3eb3fc95",
   "metadata": {},
   "outputs": [
    {
     "name": "stdin",
     "output_type": "stream",
     "text": [
      "Starting weight here:  203\n"
     ]
    },
    {
     "name": "stdout",
     "output_type": "stream",
     "text": [
      "Weight\tMonth\n",
      "1\t199 pounds\n",
      "2\t195 pounds\n",
      "3\t191 pounds\n",
      "4\t187 pounds\n",
      "5\t183 pounds\n",
      "6\t179 pounds\n",
      "Total weight lost in 6 months is 179 pounds\n"
     ]
    }
   ],
   "source": [
    "# Programming Exercise 11, Chapter 4\n",
    "\n",
    "weight = int(input(\"Starting weight here: \")) # User input\n",
    "\n",
    "print(\"Weight\\tMonth\") # Creating a header\n",
    "\n",
    "for month in range (1, 7): # Loop is set for 6 months\n",
    "    weight -= 4 # You are losing 4 pounds\n",
    "    print(f\"{month}\\t{weight} pounds\") # Print the result of the calculation\n",
    "\n",
    "print(f\"Total weight lost in 6 months is {weight} pounds\") # Print the final result"
   ]
  },
  {
   "cell_type": "markdown",
   "id": "cc6e07fc-f947-45d5-8325-057881224361",
   "metadata": {},
   "source": [
    "<h4> Python's Own Weight Watchers! </h4>\n",
    "<h5> 1. The user is asked for an integer input. </h5>\n",
    "<h5> 2. A header is made to separate out the month and the weight data. </h5>\n",
    "<h5> 3. The for loop goes over each weight that the user would drop to assuming they lose 4 pounds each month. </h5>\n",
    "<h5> 4. Each weight is then printed to the console as a separate data point. </h5>\n",
    "<h5> 5. The results are then printed to console. </h5>"
   ]
  },
  {
   "cell_type": "markdown",
   "id": "f2460805-f6c3-4008-87c8-087f0e8c3f9d",
   "metadata": {},
   "source": [
    "<h3> Programming Exercise # 14</h3>"
   ]
  },
  {
   "cell_type": "code",
   "execution_count": 12,
   "id": "20dfdac9-ddb6-48ca-8940-a4379da71079",
   "metadata": {},
   "outputs": [
    {
     "name": "stdout",
     "output_type": "stream",
     "text": [
      "*******\n",
      "******\n",
      "*****\n",
      "****\n",
      "***\n",
      "**\n",
      "*\n"
     ]
    }
   ],
   "source": [
    "#Programming Exercise 14, Chapter 4\n",
    "\n",
    "# Define the number of rows for the pattern.\n",
    "num_rows = 7\n",
    "\n",
    "# Outer loop for rows.\n",
    "for i in range(num_rows, 0, -1): #This will loop the rows to always shrink by one character.\n",
    "    # Inner loop for printing asterisks.\n",
    "    for j in range(1, i + 1): #This will always print an asterisk until the i for loop no longer can accommodate the j loop printing asterisks.\n",
    "        print(\"*\", end=\"\")\n",
    "    print()  # Move to the next line."
   ]
  },
  {
   "cell_type": "markdown",
   "id": "1c474da5-080d-4833-90f9-48047c1fc5e5",
   "metadata": {},
   "source": [
    "<h4> Downwards Triangle? </h4>\n",
    "<h5> 1. A set number of rows that we want our shape to be is set to 7. </h5>\n",
    "<h5> 2. For every instance of i in the range, starting at zero, the number of characters in a row will shrink by 1. </h5>\n",
    "<h5> 3. A second for-loop adds the asterisks to the console. </h5>\n",
    "<h5> 4. So while the first loop shrinks the number of characters allowed in a row, the second row prints out the asterisks to the boundaries of the first loop. </h5>"
   ]
  },
  {
   "cell_type": "code",
   "execution_count": null,
   "id": "d2539170-869b-48ef-870a-4975cc9e54d1",
   "metadata": {},
   "outputs": [],
   "source": []
  }
 ],
 "metadata": {
  "kernelspec": {
   "display_name": "anaconda-2022.05-py39",
   "language": "python",
   "name": "conda-env-anaconda-2022.05-py39-py"
  },
  "language_info": {
   "codemirror_mode": {
    "name": "ipython",
    "version": 3
   },
   "file_extension": ".py",
   "mimetype": "text/x-python",
   "name": "python",
   "nbconvert_exporter": "python",
   "pygments_lexer": "ipython3",
   "version": "3.9.12"
  }
 },
 "nbformat": 4,
 "nbformat_minor": 5
}
